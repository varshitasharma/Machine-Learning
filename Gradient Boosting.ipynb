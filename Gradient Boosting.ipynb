{
 "cells": [
  {
   "cell_type": "markdown",
   "metadata": {},
   "source": [
    "# Q-4  Random Forest"
   ]
  },
  {
   "cell_type": "code",
   "execution_count": 2,
   "metadata": {},
   "outputs": [],
   "source": [
    "import pandas as pd \n",
    "import numpy as np\n",
    "import os\n",
    "import random\n",
    "import matplotlib.pyplot as plt"
   ]
  },
  {
   "cell_type": "code",
   "execution_count": 6,
   "metadata": {},
   "outputs": [],
   "source": [
    "df = pd.read_csv(os.path.join('https://web.stanford.edu/~hastie/ElemStatLearn//datasets/spam.data'), sep = ' ', header = None)"
   ]
  },
  {
   "cell_type": "code",
   "execution_count": 9,
   "metadata": {},
   "outputs": [
    {
     "data": {
      "text/plain": [
       "(4601, 58)"
      ]
     },
     "execution_count": 9,
     "metadata": {},
     "output_type": "execute_result"
    }
   ],
   "source": [
    "df1.shape"
   ]
  },
  {
   "cell_type": "code",
   "execution_count": 17,
   "metadata": {},
   "outputs": [],
   "source": [
    "#Renamed the columns as col-1, col-1, ..., col-n\n",
    "d = {}\n",
    "for x in df.columns:\n",
    "    if x == 57:\n",
    "        d[x] = 'label'\n",
    "    else:\n",
    "        d[x] = 'col-'+str(x) \n",
    "\n",
    "df1 = df.rename(columns = d)"
   ]
  },
  {
   "cell_type": "code",
   "execution_count": 11,
   "metadata": {},
   "outputs": [
    {
     "data": {
      "text/html": [
       "<div>\n",
       "<style scoped>\n",
       "    .dataframe tbody tr th:only-of-type {\n",
       "        vertical-align: middle;\n",
       "    }\n",
       "\n",
       "    .dataframe tbody tr th {\n",
       "        vertical-align: top;\n",
       "    }\n",
       "\n",
       "    .dataframe thead th {\n",
       "        text-align: right;\n",
       "    }\n",
       "</style>\n",
       "<table border=\"1\" class=\"dataframe\">\n",
       "  <thead>\n",
       "    <tr style=\"text-align: right;\">\n",
       "      <th></th>\n",
       "      <th>col-0</th>\n",
       "      <th>col-1</th>\n",
       "      <th>col-2</th>\n",
       "      <th>col-3</th>\n",
       "      <th>col-4</th>\n",
       "      <th>col-5</th>\n",
       "      <th>col-6</th>\n",
       "      <th>col-7</th>\n",
       "      <th>col-8</th>\n",
       "      <th>col-9</th>\n",
       "      <th>...</th>\n",
       "      <th>col-48</th>\n",
       "      <th>col-49</th>\n",
       "      <th>col-50</th>\n",
       "      <th>col-51</th>\n",
       "      <th>col-52</th>\n",
       "      <th>col-53</th>\n",
       "      <th>col-54</th>\n",
       "      <th>col-55</th>\n",
       "      <th>col-56</th>\n",
       "      <th>label</th>\n",
       "    </tr>\n",
       "  </thead>\n",
       "  <tbody>\n",
       "    <tr>\n",
       "      <th>0</th>\n",
       "      <td>0.00</td>\n",
       "      <td>0.64</td>\n",
       "      <td>0.64</td>\n",
       "      <td>0.0</td>\n",
       "      <td>0.32</td>\n",
       "      <td>0.00</td>\n",
       "      <td>0.00</td>\n",
       "      <td>0.00</td>\n",
       "      <td>0.00</td>\n",
       "      <td>0.00</td>\n",
       "      <td>...</td>\n",
       "      <td>0.00</td>\n",
       "      <td>0.000</td>\n",
       "      <td>0.0</td>\n",
       "      <td>0.778</td>\n",
       "      <td>0.000</td>\n",
       "      <td>0.000</td>\n",
       "      <td>3.756</td>\n",
       "      <td>61</td>\n",
       "      <td>278</td>\n",
       "      <td>1</td>\n",
       "    </tr>\n",
       "    <tr>\n",
       "      <th>1</th>\n",
       "      <td>0.21</td>\n",
       "      <td>0.28</td>\n",
       "      <td>0.50</td>\n",
       "      <td>0.0</td>\n",
       "      <td>0.14</td>\n",
       "      <td>0.28</td>\n",
       "      <td>0.21</td>\n",
       "      <td>0.07</td>\n",
       "      <td>0.00</td>\n",
       "      <td>0.94</td>\n",
       "      <td>...</td>\n",
       "      <td>0.00</td>\n",
       "      <td>0.132</td>\n",
       "      <td>0.0</td>\n",
       "      <td>0.372</td>\n",
       "      <td>0.180</td>\n",
       "      <td>0.048</td>\n",
       "      <td>5.114</td>\n",
       "      <td>101</td>\n",
       "      <td>1028</td>\n",
       "      <td>1</td>\n",
       "    </tr>\n",
       "    <tr>\n",
       "      <th>2</th>\n",
       "      <td>0.06</td>\n",
       "      <td>0.00</td>\n",
       "      <td>0.71</td>\n",
       "      <td>0.0</td>\n",
       "      <td>1.23</td>\n",
       "      <td>0.19</td>\n",
       "      <td>0.19</td>\n",
       "      <td>0.12</td>\n",
       "      <td>0.64</td>\n",
       "      <td>0.25</td>\n",
       "      <td>...</td>\n",
       "      <td>0.01</td>\n",
       "      <td>0.143</td>\n",
       "      <td>0.0</td>\n",
       "      <td>0.276</td>\n",
       "      <td>0.184</td>\n",
       "      <td>0.010</td>\n",
       "      <td>9.821</td>\n",
       "      <td>485</td>\n",
       "      <td>2259</td>\n",
       "      <td>1</td>\n",
       "    </tr>\n",
       "    <tr>\n",
       "      <th>3</th>\n",
       "      <td>0.00</td>\n",
       "      <td>0.00</td>\n",
       "      <td>0.00</td>\n",
       "      <td>0.0</td>\n",
       "      <td>0.63</td>\n",
       "      <td>0.00</td>\n",
       "      <td>0.31</td>\n",
       "      <td>0.63</td>\n",
       "      <td>0.31</td>\n",
       "      <td>0.63</td>\n",
       "      <td>...</td>\n",
       "      <td>0.00</td>\n",
       "      <td>0.137</td>\n",
       "      <td>0.0</td>\n",
       "      <td>0.137</td>\n",
       "      <td>0.000</td>\n",
       "      <td>0.000</td>\n",
       "      <td>3.537</td>\n",
       "      <td>40</td>\n",
       "      <td>191</td>\n",
       "      <td>1</td>\n",
       "    </tr>\n",
       "    <tr>\n",
       "      <th>4</th>\n",
       "      <td>0.00</td>\n",
       "      <td>0.00</td>\n",
       "      <td>0.00</td>\n",
       "      <td>0.0</td>\n",
       "      <td>0.63</td>\n",
       "      <td>0.00</td>\n",
       "      <td>0.31</td>\n",
       "      <td>0.63</td>\n",
       "      <td>0.31</td>\n",
       "      <td>0.63</td>\n",
       "      <td>...</td>\n",
       "      <td>0.00</td>\n",
       "      <td>0.135</td>\n",
       "      <td>0.0</td>\n",
       "      <td>0.135</td>\n",
       "      <td>0.000</td>\n",
       "      <td>0.000</td>\n",
       "      <td>3.537</td>\n",
       "      <td>40</td>\n",
       "      <td>191</td>\n",
       "      <td>1</td>\n",
       "    </tr>\n",
       "  </tbody>\n",
       "</table>\n",
       "<p>5 rows × 58 columns</p>\n",
       "</div>"
      ],
      "text/plain": [
       "   col-0  col-1  col-2  col-3  col-4  col-5  col-6  col-7  col-8  col-9  ...  \\\n",
       "0   0.00   0.64   0.64    0.0   0.32   0.00   0.00   0.00   0.00   0.00  ...   \n",
       "1   0.21   0.28   0.50    0.0   0.14   0.28   0.21   0.07   0.00   0.94  ...   \n",
       "2   0.06   0.00   0.71    0.0   1.23   0.19   0.19   0.12   0.64   0.25  ...   \n",
       "3   0.00   0.00   0.00    0.0   0.63   0.00   0.31   0.63   0.31   0.63  ...   \n",
       "4   0.00   0.00   0.00    0.0   0.63   0.00   0.31   0.63   0.31   0.63  ...   \n",
       "\n",
       "   col-48  col-49  col-50  col-51  col-52  col-53  col-54  col-55  col-56  \\\n",
       "0    0.00   0.000     0.0   0.778   0.000   0.000   3.756      61     278   \n",
       "1    0.00   0.132     0.0   0.372   0.180   0.048   5.114     101    1028   \n",
       "2    0.01   0.143     0.0   0.276   0.184   0.010   9.821     485    2259   \n",
       "3    0.00   0.137     0.0   0.137   0.000   0.000   3.537      40     191   \n",
       "4    0.00   0.135     0.0   0.135   0.000   0.000   3.537      40     191   \n",
       "\n",
       "   label  \n",
       "0      1  \n",
       "1      1  \n",
       "2      1  \n",
       "3      1  \n",
       "4      1  \n",
       "\n",
       "[5 rows x 58 columns]"
      ]
     },
     "execution_count": 11,
     "metadata": {},
     "output_type": "execute_result"
    }
   ],
   "source": [
    "df1.head()"
   ]
  },
  {
   "cell_type": "markdown",
   "metadata": {},
   "source": [
    "# 4-a\n",
    "=> Writing functions to implement Random Forest"
   ]
  },
  {
   "cell_type": "code",
   "execution_count": 13,
   "metadata": {},
   "outputs": [],
   "source": [
    "# Function for splitting dataset as 70% of whole for traing and the rest 30% of data for testing\n",
    "def split_data(df, size):\n",
    "    \n",
    "    if isinstance(size, float):\n",
    "        size = round(size * len(df))\n",
    "\n",
    "    indices = df.index.tolist()\n",
    "    test_indices = random.sample(population=indices, k=size)\n",
    "    test_df = df.loc[test_indices] \n",
    "    train_df = df.drop(test_indices) \n",
    "    return train_df, test_df  # train_df_label, train_df_label \n"
   ]
  },
  {
   "cell_type": "code",
   "execution_count": 16,
   "metadata": {},
   "outputs": [],
   "source": [
    "# Function for Distinguishing continuous & categorical features in dataset\n",
    "def feature_type(df):\n",
    "    feature_types = []\n",
    "    unique_thresh = 15\n",
    "    for f in df.columns:\n",
    "        if f != \"label\":\n",
    "            unique_values = df[f].unique()\n",
    "            example_value = unique_values[0]\n",
    "\n",
    "            if (isinstance(example_value, str)) or (len(unique_values) <= unique_thresh):\n",
    "                feature_types.append(\"categorical\")\n",
    "            else:\n",
    "                feature_types.append(\"continuous\")\n",
    "    \n",
    "    return feature_types\n"
   ]
  },
  {
   "cell_type": "code",
   "execution_count": 27,
   "metadata": {},
   "outputs": [],
   "source": [
    "# Function to find the best split among all potential splits\n",
    "def best_split(df1, potential_splits):\n",
    "    \n",
    "    overall_entropy = 9999\n",
    "    for column_index in potential_splits:\n",
    "        for value in potential_splits[column_index]:\n",
    "            df1_below, df1_above = split_df1(df1, split_column=column_index, split_value=value)\n",
    "            current_overall_entropy = parent_entropy(df1_below, df1_above)\n",
    "            \n",
    "            if current_overall_entropy <= overall_entropy:\n",
    "                overall_entropy = current_overall_entropy\n",
    "                best_split_column = column_index\n",
    "                best_split_value = value\n",
    "    \n",
    "    return best_split_column, best_split_value\n",
    "\n",
    "\n",
    "\n",
    "# Function to split a node into children\n",
    "def split_df1(df1, split_column, split_value):\n",
    "    \n",
    "    split_column_values = df1[:, split_column]\n",
    "\n",
    "    type_of_feature = FEATURE_TYPES[split_column]\n",
    "    if type_of_feature == \"continuous\":\n",
    "        df1_below = df1[split_column_values <= split_value]\n",
    "        df1_above = df1[split_column_values >  split_value] \n",
    "    else:\n",
    "        df1_below = df1[split_column_values == split_value]\n",
    "        df1_above = df1[split_column_values != split_value]\n",
    "    \n",
    "    return df1_below, df1_above\n",
    "\n",
    "\n",
    "\n",
    "\n",
    "    \n",
    "#   Function to return classification of data \n",
    "def data_classify(df1):\n",
    "    \n",
    "    label_column = df1[:, -1]\n",
    "    unique_classes, counts_unique_classes = np.unique(label_column, return_counts=True)\n",
    "\n",
    "    index = counts_unique_classes.argmax()\n",
    "    classification = unique_classes[index]\n",
    "    \n",
    "    return classification\n",
    "\n",
    "\n",
    "# Function to determine all potential splits\n",
    "def potential_splits(df1, random_subspace):\n",
    "    \n",
    "    potential_splits_d = {}\n",
    "    _, n_columns = df1.shape\n",
    "    column_indices = list(range(n_columns - 1))   \n",
    "    \n",
    "    if random_subspace and random_subspace <= len(column_indices):\n",
    "        column_indices = random.sample(population=column_indices, k=random_subspace) # Select k columns that can be potential split\n",
    "    \n",
    "    for column_index in column_indices:          \n",
    "        values = df1[:, column_index]\n",
    "        unique_values = np.unique(values)\n",
    "        \n",
    "        potential_splits_d[column_index] = unique_values\n",
    "    \n",
    "    return potential_splits_d\n",
    "\n",
    "\n",
    "# Function to find purity of node\n",
    "def purity(df1):\n",
    "    \n",
    "    label_column = df1[:, -1]\n",
    "    unique_classes = np.unique(label_column)\n",
    "\n",
    "    if len(unique_classes) == 1:\n",
    "        return True\n",
    "    else:\n",
    "        return False\n",
    "\n",
    "# Function to find entropy of the node\n",
    "def entropy(df1):\n",
    "    \n",
    "    label_column = df1[:, -1]\n",
    "    _, counts = np.unique(label_column, return_counts=True)\n",
    "\n",
    "    probabilities = counts / counts.sum()\n",
    "    entropy = sum(probabilities * -np.log2(probabilities))\n",
    "     \n",
    "    return entropy\n",
    "\n",
    "\n",
    "# Function to find entropy of a parent node\n",
    "def parent_entropy(df1_below, df1_above):\n",
    "    \n",
    "    n = len(df1_below) + len(df1_above)\n",
    "    p_df1_below = len(df1_below) / n\n",
    "    p_df1_above = len(df1_above) / n\n",
    "\n",
    "    overall_entropy =  (p_df1_below * entropy(df1_below) \n",
    "                      + p_df1_above * entropy(df1_above))\n",
    "    \n",
    "    return overall_entropy\n",
    "\n",
    "\n",
    "\n"
   ]
  },
  {
   "cell_type": "code",
   "execution_count": 33,
   "metadata": {},
   "outputs": [],
   "source": [
    "# Decision Tree Algorithm function\n",
    "def build_decision_tree(df, counter=0, min_samples=2, max_depth=5, random_subspace=None):\n",
    "    \n",
    "    # This code will be executed for the first level of decision tree\n",
    "    if counter == 0:\n",
    "        global COLUMN_HEADERS, FEATURE_TYPES\n",
    "        FEATURE_TYPES = feature_type(df)\n",
    "        COLUMN_HEADERS = df.columns\n",
    "        df1 = df.values\n",
    "    else:\n",
    "        df1 = df           \n",
    "    \n",
    "    # Termination conditions\n",
    "    if (purity(df1)) or (len(df1) < min_samples) or (counter == max_depth):\n",
    "        classification = data_classify(df1)\n",
    "        \n",
    "        return classification\n",
    "    \n",
    "    # Code executed for building levels of decision tree\n",
    "    else:    \n",
    "        counter += 1\n",
    " \n",
    "        potential_splits_poss = potential_splits(df1, random_subspace)\n",
    "        split_column, split_value = best_split(df1, potential_splits_poss)\n",
    "        df1_below, df1_above = split_df1(df1, split_column, split_value)\n",
    "        \n",
    "        # Empty dataframe\n",
    "        if len(df1_below) == 0 or len(df1_above) == 0:\n",
    "            classification = data_classify(df1)\n",
    "            return classification\n",
    "        \n",
    "        # Find the question on each node of tree\n",
    "        feature_name = COLUMN_HEADERS[split_column]\n",
    "        type_of_feature = FEATURE_TYPES[split_column]\n",
    "        if type_of_feature == \"continuous\":\n",
    "            que = \"{} <= {}\".format(feature_name, split_value)\n",
    "            \n",
    "        # feature is categorical\n",
    "        else:\n",
    "            que = \"{} = {}\".format(feature_name, split_value)\n",
    "        \n",
    "        # instantiate sub-tree\n",
    "        sub_tree = {que: []}\n",
    "        \n",
    "        # find answers \n",
    "        yes_answer = build_decision_tree(df1_below, counter, min_samples, max_depth, random_subspace)\n",
    "        no_answer = build_decision_tree(df1_above, counter, min_samples, max_depth, random_subspace)\n",
    "        \n",
    "        if yes_answer == no_answer:\n",
    "            sub_tree = yes_answer\n",
    "        else:\n",
    "            sub_tree[que].append(yes_answer)\n",
    "            sub_tree[que].append(no_answer)\n",
    "        \n",
    "        return sub_tree"
   ]
  },
  {
   "cell_type": "code",
   "execution_count": 34,
   "metadata": {},
   "outputs": [],
   "source": [
    "# Function to find classification of an instance\n",
    "def predict_example(example, tree):\n",
    "    que = list(tree.keys())[0]\n",
    "    feature_name, comparison_operator, value = que.split(\" \")\n",
    "\n",
    "    # ask que\n",
    "    if comparison_operator == \"<=\":\n",
    "        if example[feature_name] <= float(value):\n",
    "            answer = tree[que][0]\n",
    "        else:\n",
    "            answer = tree[que][1]\n",
    "    \n",
    "    # feature is categorical\n",
    "    else:\n",
    "        if str(example[feature_name]) == value:\n",
    "            answer = tree[que][0]\n",
    "        else:\n",
    "            answer = tree[que][1]\n",
    "\n",
    "    # base case\n",
    "    if not isinstance(answer, dict):\n",
    "        return answer\n",
    "    \n",
    "    # recursive part\n",
    "    else:\n",
    "        residual_tree = answer\n",
    "        return predict_example(example, residual_tree)\n",
    "    \n",
    "# All examples of the test df1\n",
    "def decision_tree_predictions(test_df, tree):\n",
    "    predictions = test_df.apply(predict_example, args=(tree,), axis=1)\n",
    "    return predictions\n",
    "\n",
    "def oob_score(pred, y_test):\n",
    "    mis_label = 0\n",
    "    for i in range(len(pred)):\n",
    "        if pred[i] != y_test[i]:\n",
    "            mis_label += 1\n",
    "    return mis_label / len(y_test)"
   ]
  },
  {
   "cell_type": "code",
   "execution_count": 79,
   "metadata": {},
   "outputs": [],
   "source": [
    "\n",
    "train_df, test_df = split_data(df1, size=0.3)"
   ]
  },
  {
   "cell_type": "code",
   "execution_count": 80,
   "metadata": {},
   "outputs": [],
   "source": [
    "# Function to bootstrap dataframes\n",
    "def bootstrapping(train_df, n_bootstrap):\n",
    "    bootstrap_indices = np.random.randint(low=0, high=len(train_df), size=n_bootstrap)\n",
    "    df_bootstrapped = train_df.iloc[bootstrap_indices]\n",
    "    df_oob = train_df.iloc[~bootstrap_indices]    \n",
    "    return df_bootstrapped, df_oob\n",
    "\n",
    "# Function to build Random forest\n",
    "def build_random_forest(train_df, n_trees, n_bootstrap, n_features, dt_max_depth):\n",
    "    forest = []\n",
    "    OOB_data = []\n",
    "    OOB_score = []\n",
    "    for i in range(n_trees):\n",
    "        df_bootstrapped, df_oob = bootstrapping(train_df, n_bootstrap)\n",
    "        tree = build_decision_tree(df_bootstrapped, max_depth=dt_max_depth, random_subspace=n_features)\n",
    "        forest.append(tree)\n",
    "        oob_pred = decision_tree_predictions(df_oob, tree)\n",
    "        oob_predicted = [int(i) for i in oob_pred]\n",
    "        score = oob_score(oob_predicted, df_oob.label.values)        \n",
    "        OOB_score.append(score)\n",
    "    \n",
    "    return forest, np.mean(OOB_score)\n",
    "\n",
    "def random_forest_predictions(test_df, forest):\n",
    "    df_predictions = {}\n",
    "    oob_pred_list = []\n",
    "    for i in range(len(forest)):\n",
    "        column_name = \"tree_{}\".format(i)\n",
    "        predictions = decision_tree_predictions(test_df, tree=forest[i])\n",
    "        df_predictions[column_name] = predictions\n",
    "\n",
    "    df_predictions = pd.DataFrame(df_predictions)\n",
    "    random_forest_predictions = df_predictions.mode(axis=1)[0]\n",
    "    \n",
    "    return random_forest_predictions\n",
    "\n"
   ]
  },
  {
   "cell_type": "markdown",
   "metadata": {},
   "source": [
    "# 4-a Compare your results in terms of accuracy and time taken with Scikitlearn’s built-in random forest classifier. "
   ]
  },
  {
   "cell_type": "markdown",
   "metadata": {},
   "source": [
    "## Build and train my random forest"
   ]
  },
  {
   "cell_type": "code",
   "execution_count": 81,
   "metadata": {},
   "outputs": [
    {
     "name": "stdout",
     "output_type": "stream",
     "text": [
      "Wall time: 44.6 s\n"
     ]
    }
   ],
   "source": [
    "%%time\n",
    "forest, Oob_estimate = build_random_forest(train_df, n_trees=4, n_bootstrap=train_df.shape[0], n_features=30, dt_max_depth=4)\n",
    "predictions = random_forest_predictions(test_df, forest)\n"
   ]
  },
  {
   "cell_type": "code",
   "execution_count": 89,
   "metadata": {},
   "outputs": [],
   "source": [
    "# Function to determine accuracy, sensitivity and specificity\n",
    "def display_performance(y_true, y_pred):\n",
    "    from sklearn.metrics import accuracy_score, confusion_matrix\n",
    "    acc = accuracy_score(y_true, y_pred)\n",
    "    print(\"Accuracy = {}\".format(acc))\n",
    "    cm1 = confusion_matrix(y_true, y_pred)\n",
    "    sensitivity1 = cm1[0,0]/(cm1[0,0]+cm1[0,1])\n",
    "    print(\"Sensitivity =\", sensitivity1)\n",
    "    specificity1 = cm1[1,1]/(cm1[1,0]+cm1[1,1])\n",
    "    print('Specificity : ', specificity1)"
   ]
  },
  {
   "cell_type": "code",
   "execution_count": 90,
   "metadata": {
    "scrolled": true
   },
   "outputs": [
    {
     "name": "stdout",
     "output_type": "stream",
     "text": [
      "Accuracy = 0.868840579710145\n",
      "Sensitivity = 0.9409638554216867\n",
      "Specificity :  0.76\n"
     ]
    }
   ],
   "source": [
    "display_performance(test_df.label, predictions)"
   ]
  },
  {
   "cell_type": "markdown",
   "metadata": {},
   "source": [
    "# Fit a Inbuilt random forest classifier "
   ]
  },
  {
   "cell_type": "code",
   "execution_count": 84,
   "metadata": {},
   "outputs": [],
   "source": [
    "x_train, y_train = train_df.iloc[:,:-1], train_df.iloc[:,-1:]\n",
    "x_test, y_test =  test_df.iloc[:,:-1], test_df.iloc[:,-1:]"
   ]
  },
  {
   "cell_type": "code",
   "execution_count": 93,
   "metadata": {},
   "outputs": [
    {
     "name": "stdout",
     "output_type": "stream",
     "text": [
      "Wall time: 277 ms\n"
     ]
    }
   ],
   "source": [
    "%%time\n",
    "from sklearn.ensemble import RandomForestClassifier\n",
    "clf = RandomForestClassifier(max_depth=4, random_state=0)\n",
    "clf.fit(x_train, y_train.label)\n",
    "pred = clf.predict(x_test)"
   ]
  },
  {
   "cell_type": "code",
   "execution_count": 94,
   "metadata": {},
   "outputs": [
    {
     "name": "stdout",
     "output_type": "stream",
     "text": [
      "Accuracy = 0.9144927536231884\n",
      "Sensitivity = 0.9674698795180723\n",
      "Specificity :  0.8345454545454546\n"
     ]
    }
   ],
   "source": [
    "display_performance(test_df.label, pred)"
   ]
  },
  {
   "cell_type": "markdown",
   "metadata": {},
   "source": [
    "# 4-b Explore the sensitivity of Random Forests to the parameter m (the number of features used for best split.\n",
    "    "
   ]
  },
  {
   "cell_type": "code",
   "execution_count": 92,
   "metadata": {},
   "outputs": [
    {
     "name": "stdout",
     "output_type": "stream",
     "text": [
      "number of features to choose  10\n",
      "Accuracy = 0.8731884057971014\n",
      "Sensitivity = 0.9650602409638555\n",
      "Specificity :  0.7345454545454545\n",
      "---------\n",
      "number of features to choose  20\n",
      "Accuracy = 0.8753623188405797\n",
      "Sensitivity = 0.9626506024096385\n",
      "Specificity :  0.7436363636363637\n",
      "---------\n",
      "number of features to choose  30\n",
      "Accuracy = 0.8956521739130435\n",
      "Sensitivity = 0.9698795180722891\n",
      "Specificity :  0.7836363636363637\n",
      "---------\n",
      "number of features to choose  40\n",
      "Accuracy = 0.8985507246376812\n",
      "Sensitivity = 0.9554216867469879\n",
      "Specificity :  0.8127272727272727\n",
      "---------\n",
      "number of features to choose  50\n",
      "Accuracy = 0.8891304347826087\n",
      "Sensitivity = 0.9602409638554217\n",
      "Specificity :  0.7818181818181819\n",
      "---------\n",
      "Wall time: 35.9 s\n"
     ]
    }
   ],
   "source": [
    "%%time\n",
    "n_features = [10,20,30,40,50]\n",
    "for n_feat in n_features:\n",
    "    print(\"number of features to choose \", n_feat)\n",
    "    ## model fitting \n",
    "    forest, oob_estimate = build_random_forest(train_df, n_trees=4, n_bootstrap=800, n_features=30, dt_max_depth=4)\n",
    "    ## model predictions\n",
    "    predictions = random_forest_predictions(test_df, forest)\n",
    "    ## model performance check\n",
    "    display_performance(test_df.label, predictions)\n",
    "    print(\"---------\")"
   ]
  },
  {
   "cell_type": "markdown",
   "metadata": {},
   "source": [
    "## 4-c Plot the OOB (out-of-bag) error\n",
    "\n"
   ]
  },
  {
   "cell_type": "code",
   "execution_count": 38,
   "metadata": {},
   "outputs": [
    {
     "name": "stdout",
     "output_type": "stream",
     "text": [
      "Obb estimates for number of features 5 is 0.14995343061161132\n",
      "Obb estimates for number of features 10 is 0.13443030114871157\n",
      "Obb estimates for number of features 15 is 0.133436820863086\n",
      "Obb estimates for number of features 20 is 0.10959329400807202\n",
      "Obb estimates for number of features 30 is 0.1063644830797889\n",
      "Wall time: 4min 19s\n"
     ]
    }
   ],
   "source": [
    "%%time\n",
    "n_features = [5,10,15, 20, 30]\n",
    "score = []\n",
    "for e_feat in n_features:\n",
    "    #print(\"number of trees to choose \", estimator)\n",
    "    forest, Obb_estimate = build_random_forest(train_df, n_trees=5, n_bootstrap=train_df.shape[0], n_features=e_feat, dt_max_depth=4)\n",
    "    score.append(Obb_estimate)\n",
    "    print(\"Obb estimates for number of features {} is {}\".format(e_feat, Obb_estimate))"
   ]
  },
  {
   "cell_type": "code",
   "execution_count": 20,
   "metadata": {
    "scrolled": true
   },
   "outputs": [
    {
     "data": {
      "text/plain": [
       "[<matplotlib.lines.Line2D at 0x2141c569c40>]"
      ]
     },
     "execution_count": 20,
     "metadata": {},
     "output_type": "execute_result"
    },
    {
     "data": {
      "image/png": "[encoded data removed]",
      "text/plain": [
       "<Figure size 432x288 with 1 Axes>"
      ]
     },
     "metadata": {
      "needs_background": "light"
     },
     "output_type": "display_data"
    }
   ],
   "source": [
    "plt.plot(n_features, score)"
   ]
  }
 ],
 "metadata": {
  "kernelspec": {
   "display_name": "Python 3",
   "language": "python",
   "name": "python3"
  },
  "language_info": {
   "codemirror_mode": {
    "name": "ipython",
    "version": 3
   },
   "file_extension": ".py",
   "mimetype": "text/x-python",
   "name": "python",
   "nbconvert_exporter": "python",
   "pygments_lexer": "ipython3",
   "version": "3.8.8"
  }
 },
 "nbformat": 4,
 "nbformat_minor": 4
}
