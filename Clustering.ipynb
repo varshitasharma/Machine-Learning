{
 "cells": [
  {
   "cell_type": "markdown",
   "id": "a9c225b6",
   "metadata": {},
   "source": [
    "# Q-4"
   ]
  },
  {
   "cell_type": "code",
   "execution_count": 1,
   "id": "008bcb54",
   "metadata": {},
   "outputs": [],
   "source": [
    "import pandas as pd\n",
    "from sklearn.cluster import KMeans\n",
    "from sklearn.metrics import silhouette_score\n",
    "import matplotlib.pyplot as plt\n",
    "import numpy as np\n",
    "from sklearn.cluster import DBSCAN\n",
    "from sklearn.metrics.pairwise import euclidean_distances"
   ]
  },
  {
   "cell_type": "markdown",
   "id": "ecc71462",
   "metadata": {},
   "source": [
    "# Dataset-1"
   ]
  },
  {
   "cell_type": "code",
   "execution_count": 2,
   "id": "1a1b8793",
   "metadata": {},
   "outputs": [],
   "source": [
    "x = pd.read_csv(r'C:\\Users\\naman\\Downloads\\dataset1.txt', delimiter= '\\s+', header=None)\n"
   ]
  },
  {
   "cell_type": "code",
   "execution_count": 3,
   "id": "071dd554",
   "metadata": {},
   "outputs": [
    {
     "data": {
      "text/html": [
       "<div>\n",
       "<style scoped>\n",
       "    .dataframe tbody tr th:only-of-type {\n",
       "        vertical-align: middle;\n",
       "    }\n",
       "\n",
       "    .dataframe tbody tr th {\n",
       "        vertical-align: top;\n",
       "    }\n",
       "\n",
       "    .dataframe thead th {\n",
       "        text-align: right;\n",
       "    }\n",
       "</style>\n",
       "<table border=\"1\" class=\"dataframe\">\n",
       "  <thead>\n",
       "    <tr style=\"text-align: right;\">\n",
       "      <th></th>\n",
       "      <th>0</th>\n",
       "      <th>1</th>\n",
       "    </tr>\n",
       "  </thead>\n",
       "  <tbody>\n",
       "    <tr>\n",
       "      <th>0</th>\n",
       "      <td>1.489034</td>\n",
       "      <td>-0.372265</td>\n",
       "    </tr>\n",
       "    <tr>\n",
       "      <th>1</th>\n",
       "      <td>-0.993560</td>\n",
       "      <td>0.113308</td>\n",
       "    </tr>\n",
       "    <tr>\n",
       "      <th>2</th>\n",
       "      <td>1.375386</td>\n",
       "      <td>-0.426868</td>\n",
       "    </tr>\n",
       "    <tr>\n",
       "      <th>3</th>\n",
       "      <td>-0.856408</td>\n",
       "      <td>0.516299</td>\n",
       "    </tr>\n",
       "    <tr>\n",
       "      <th>4</th>\n",
       "      <td>0.446398</td>\n",
       "      <td>-0.332782</td>\n",
       "    </tr>\n",
       "    <tr>\n",
       "      <th>...</th>\n",
       "      <td>...</td>\n",
       "      <td>...</td>\n",
       "    </tr>\n",
       "    <tr>\n",
       "      <th>495</th>\n",
       "      <td>0.199975</td>\n",
       "      <td>-0.099966</td>\n",
       "    </tr>\n",
       "    <tr>\n",
       "      <th>496</th>\n",
       "      <td>-0.760611</td>\n",
       "      <td>0.649208</td>\n",
       "    </tr>\n",
       "    <tr>\n",
       "      <th>497</th>\n",
       "      <td>1.856408</td>\n",
       "      <td>-0.016299</td>\n",
       "    </tr>\n",
       "    <tr>\n",
       "      <th>498</th>\n",
       "      <td>-0.169505</td>\n",
       "      <td>0.985529</td>\n",
       "    </tr>\n",
       "    <tr>\n",
       "      <th>499</th>\n",
       "      <td>0.718170</td>\n",
       "      <td>0.695867</td>\n",
       "    </tr>\n",
       "  </tbody>\n",
       "</table>\n",
       "<p>500 rows × 2 columns</p>\n",
       "</div>"
      ],
      "text/plain": [
       "            0         1\n",
       "0    1.489034 -0.372265\n",
       "1   -0.993560  0.113308\n",
       "2    1.375386 -0.426868\n",
       "3   -0.856408  0.516299\n",
       "4    0.446398 -0.332782\n",
       "..        ...       ...\n",
       "495  0.199975 -0.099966\n",
       "496 -0.760611  0.649208\n",
       "497  1.856408 -0.016299\n",
       "498 -0.169505  0.985529\n",
       "499  0.718170  0.695867\n",
       "\n",
       "[500 rows x 2 columns]"
      ]
     },
     "execution_count": 3,
     "metadata": {},
     "output_type": "execute_result"
    }
   ],
   "source": [
    "x"
   ]
  },
  {
   "cell_type": "markdown",
   "id": "9dde66d1",
   "metadata": {},
   "source": [
    "# (a) K-means to find number of clusters"
   ]
  },
  {
   "cell_type": "code",
   "execution_count": 4,
   "id": "c8285524",
   "metadata": {},
   "outputs": [],
   "source": [
    "sil = []\n",
    "kmax = 10\n",
    "\n",
    "# dissimilarity would not be defined for a single cluster, thus, minimum number of clusters should be 2\n",
    "for k in range(2, kmax+1):\n",
    "  kmeans = KMeans(n_clusters = k).fit(x)\n",
    "  labels = kmeans.labels_\n",
    "  sil.append(silhouette_score(x, labels, metric = 'euclidean'))"
   ]
  },
  {
   "cell_type": "code",
   "execution_count": 5,
   "id": "6aa60966",
   "metadata": {},
   "outputs": [],
   "source": [
    "x_point = [x for x in range(2,11)]"
   ]
  },
  {
   "cell_type": "code",
   "execution_count": 6,
   "id": "75dded1c",
   "metadata": {},
   "outputs": [
    {
     "data": {
      "text/plain": [
       "[<matplotlib.lines.Line2D at 0x23474ab9880>]"
      ]
     },
     "execution_count": 6,
     "metadata": {},
     "output_type": "execute_result"
    },
    {
     "data": {
      "image/png": "[encoded data removed]",
      "text/plain": [
       "<Figure size 432x288 with 1 Axes>"
      ]
     },
     "metadata": {
      "needs_background": "light"
     },
     "output_type": "display_data"
    }
   ],
   "source": [
    "plt.plot(x_point, sil)"
   ]
  },
  {
   "cell_type": "markdown",
   "id": "0802b35a",
   "metadata": {},
   "source": [
    "# Number of clusters = 3"
   ]
  },
  {
   "cell_type": "code",
   "execution_count": 7,
   "id": "47231652",
   "metadata": {},
   "outputs": [
    {
     "data": {
      "text/plain": [
       "KMeans(n_clusters=3)"
      ]
     },
     "execution_count": 7,
     "metadata": {},
     "output_type": "execute_result"
    }
   ],
   "source": [
    "Kmean = KMeans(n_clusters=3)\n",
    "Kmean.fit(x)"
   ]
  },
  {
   "cell_type": "code",
   "execution_count": 8,
   "id": "90504fbc",
   "metadata": {},
   "outputs": [],
   "source": [
    "centroids = Kmean.cluster_centers_"
   ]
  },
  {
   "cell_type": "code",
   "execution_count": 9,
   "id": "114f03b1",
   "metadata": {},
   "outputs": [],
   "source": [
    "label = Kmean.fit_predict(x)"
   ]
  },
  {
   "cell_type": "code",
   "execution_count": 10,
   "id": "8a9f61df",
   "metadata": {
    "scrolled": true
   },
   "outputs": [
    {
     "data": {
      "text/plain": [
       "array([2, 1, 2, 1, 0, 0, 0, 1, 0, 0, 2, 2, 1, 2, 1, 1, 1, 2, 0, 0, 2, 0,\n",
       "       1, 2, 0, 1, 0, 2, 2, 0, 1, 1, 2, 0, 2, 2, 0, 1, 2, 2, 1, 2, 2, 0,\n",
       "       0, 0, 2, 1, 0, 1, 2, 0, 1, 0, 2, 1, 1, 0, 0, 0, 0, 0, 0, 0, 0, 1,\n",
       "       0, 0, 0, 1, 0, 0, 2, 2, 1, 0, 0, 0, 2, 1, 2, 0, 0, 0, 0, 2, 1, 0,\n",
       "       2, 0, 0, 2, 0, 0, 0, 0, 0, 1, 0, 0, 0, 2, 0, 2, 2, 0, 2, 0, 0, 1,\n",
       "       2, 1, 1, 1, 1, 0, 0, 0, 1, 0, 2, 2, 0, 2, 1, 2, 0, 1, 0, 1, 0, 1,\n",
       "       1, 0, 2, 2, 1, 1, 2, 1, 0, 1, 1, 1, 2, 0, 2, 0, 0, 2, 1, 0, 0, 2,\n",
       "       1, 1, 2, 2, 2, 1, 0, 1, 2, 0, 0, 1, 0, 0, 0, 1, 1, 0, 2, 2, 1, 1,\n",
       "       0, 0, 0, 2, 2, 2, 0, 2, 0, 2, 2, 1, 0, 0, 0, 0, 1, 2, 0, 0, 1, 0,\n",
       "       0, 0, 0, 0, 0, 0, 0, 0, 0, 1, 0, 0, 1, 1, 0, 2, 2, 1, 1, 0, 0, 1,\n",
       "       1, 2, 0, 0, 0, 0, 2, 1, 2, 2, 2, 0, 0, 1, 2, 2, 1, 0, 2, 1, 0, 1,\n",
       "       0, 1, 0, 0, 2, 1, 2, 1, 0, 0, 2, 0, 1, 2, 0, 0, 1, 0, 0, 0, 2, 1,\n",
       "       0, 2, 2, 2, 0, 0, 0, 0, 0, 0, 0, 1, 2, 0, 2, 1, 2, 1, 0, 1, 0, 0,\n",
       "       0, 2, 0, 1, 2, 2, 1, 0, 0, 1, 1, 2, 1, 0, 2, 2, 0, 1, 0, 1, 1, 2,\n",
       "       1, 2, 0, 1, 1, 2, 0, 0, 2, 0, 0, 1, 0, 2, 2, 0, 2, 0, 0, 1, 0, 2,\n",
       "       0, 1, 0, 2, 0, 1, 0, 1, 2, 2, 2, 1, 1, 0, 0, 1, 2, 0, 2, 0, 2, 1,\n",
       "       2, 1, 1, 2, 2, 0, 2, 0, 2, 0, 1, 0, 0, 0, 0, 0, 0, 2, 0, 1, 0, 1,\n",
       "       0, 2, 2, 1, 0, 0, 2, 0, 2, 1, 2, 0, 0, 2, 0, 2, 1, 2, 0, 2, 0, 0,\n",
       "       2, 0, 2, 0, 0, 1, 0, 1, 2, 0, 0, 0, 0, 2, 2, 1, 2, 0, 0, 2, 0, 0,\n",
       "       1, 2, 1, 1, 1, 2, 0, 2, 2, 0, 2, 0, 1, 1, 0, 0, 1, 1, 1, 1, 1, 0,\n",
       "       1, 1, 0, 0, 0, 2, 2, 0, 1, 2, 1, 1, 0, 0, 0, 2, 0, 0, 0, 2, 2, 1,\n",
       "       0, 1, 1, 0, 1, 1, 1, 0, 1, 2, 0, 2, 0, 0, 0, 1, 2, 1, 1, 0, 2, 2,\n",
       "       0, 0, 1, 1, 0, 2, 0, 1, 1, 0, 1, 0, 1, 2, 1, 0])"
      ]
     },
     "execution_count": 10,
     "metadata": {},
     "output_type": "execute_result"
    }
   ],
   "source": [
    "label"
   ]
  },
  {
   "cell_type": "code",
   "execution_count": 11,
   "id": "1e110bd6",
   "metadata": {},
   "outputs": [],
   "source": [
    "x['label']=label"
   ]
  },
  {
   "cell_type": "code",
   "execution_count": 12,
   "id": "db47a64c",
   "metadata": {},
   "outputs": [
    {
     "data": {
      "text/html": [
       "<div>\n",
       "<style scoped>\n",
       "    .dataframe tbody tr th:only-of-type {\n",
       "        vertical-align: middle;\n",
       "    }\n",
       "\n",
       "    .dataframe tbody tr th {\n",
       "        vertical-align: top;\n",
       "    }\n",
       "\n",
       "    .dataframe thead th {\n",
       "        text-align: right;\n",
       "    }\n",
       "</style>\n",
       "<table border=\"1\" class=\"dataframe\">\n",
       "  <thead>\n",
       "    <tr style=\"text-align: right;\">\n",
       "      <th></th>\n",
       "      <th>0</th>\n",
       "      <th>1</th>\n",
       "      <th>label</th>\n",
       "    </tr>\n",
       "  </thead>\n",
       "  <tbody>\n",
       "    <tr>\n",
       "      <th>0</th>\n",
       "      <td>1.489034</td>\n",
       "      <td>-0.372265</td>\n",
       "      <td>2</td>\n",
       "    </tr>\n",
       "    <tr>\n",
       "      <th>1</th>\n",
       "      <td>-0.993560</td>\n",
       "      <td>0.113308</td>\n",
       "      <td>1</td>\n",
       "    </tr>\n",
       "    <tr>\n",
       "      <th>2</th>\n",
       "      <td>1.375386</td>\n",
       "      <td>-0.426868</td>\n",
       "      <td>2</td>\n",
       "    </tr>\n",
       "    <tr>\n",
       "      <th>3</th>\n",
       "      <td>-0.856408</td>\n",
       "      <td>0.516299</td>\n",
       "      <td>1</td>\n",
       "    </tr>\n",
       "    <tr>\n",
       "      <th>4</th>\n",
       "      <td>0.446398</td>\n",
       "      <td>-0.332782</td>\n",
       "      <td>0</td>\n",
       "    </tr>\n",
       "    <tr>\n",
       "      <th>...</th>\n",
       "      <td>...</td>\n",
       "      <td>...</td>\n",
       "      <td>...</td>\n",
       "    </tr>\n",
       "    <tr>\n",
       "      <th>495</th>\n",
       "      <td>0.199975</td>\n",
       "      <td>-0.099966</td>\n",
       "      <td>0</td>\n",
       "    </tr>\n",
       "    <tr>\n",
       "      <th>496</th>\n",
       "      <td>-0.760611</td>\n",
       "      <td>0.649208</td>\n",
       "      <td>1</td>\n",
       "    </tr>\n",
       "    <tr>\n",
       "      <th>497</th>\n",
       "      <td>1.856408</td>\n",
       "      <td>-0.016299</td>\n",
       "      <td>2</td>\n",
       "    </tr>\n",
       "    <tr>\n",
       "      <th>498</th>\n",
       "      <td>-0.169505</td>\n",
       "      <td>0.985529</td>\n",
       "      <td>1</td>\n",
       "    </tr>\n",
       "    <tr>\n",
       "      <th>499</th>\n",
       "      <td>0.718170</td>\n",
       "      <td>0.695867</td>\n",
       "      <td>0</td>\n",
       "    </tr>\n",
       "  </tbody>\n",
       "</table>\n",
       "<p>500 rows × 3 columns</p>\n",
       "</div>"
      ],
      "text/plain": [
       "            0         1  label\n",
       "0    1.489034 -0.372265      2\n",
       "1   -0.993560  0.113308      1\n",
       "2    1.375386 -0.426868      2\n",
       "3   -0.856408  0.516299      1\n",
       "4    0.446398 -0.332782      0\n",
       "..        ...       ...    ...\n",
       "495  0.199975 -0.099966      0\n",
       "496 -0.760611  0.649208      1\n",
       "497  1.856408 -0.016299      2\n",
       "498 -0.169505  0.985529      1\n",
       "499  0.718170  0.695867      0\n",
       "\n",
       "[500 rows x 3 columns]"
      ]
     },
     "execution_count": 12,
     "metadata": {},
     "output_type": "execute_result"
    }
   ],
   "source": [
    "x"
   ]
  },
  {
   "cell_type": "code",
   "execution_count": 13,
   "id": "c58a0525",
   "metadata": {},
   "outputs": [
    {
     "data": {
      "image/png": "[encoded data removed]",
      "text/plain": [
       "<Figure size 432x288 with 1 Axes>"
      ]
     },
     "metadata": {
      "needs_background": "light"
     },
     "output_type": "display_data"
    }
   ],
   "source": [
    "#Getting unique labels\n",
    " \n",
    "u_labels = np.unique(label)\n",
    " \n",
    "#plotting the results:\n",
    " \n",
    "for i in u_labels:\n",
    "    plt.scatter(x[label == i][ 0] , x[label == i][ 1] , label = i)\n",
    "plt.legend()\n",
    "plt.show()"
   ]
  },
  {
   "cell_type": "code",
   "execution_count": 14,
   "id": "0443890d",
   "metadata": {},
   "outputs": [],
   "source": [
    "x = x.drop('label', axis = 1)"
   ]
  },
  {
   "cell_type": "markdown",
   "id": "8736b909",
   "metadata": {},
   "source": [
    "# (b) DBSCAN to plot the data points"
   ]
  },
  {
   "cell_type": "code",
   "execution_count": 15,
   "id": "ab2f827c",
   "metadata": {},
   "outputs": [],
   "source": [
    "from sklearn.neighbors import NearestNeighbors\n",
    "neigh = NearestNeighbors(n_neighbors=2)\n",
    "nbrs = neigh.fit(x[[0,1]])\n",
    "distances, indices = nbrs.kneighbors(x[[0,1]])"
   ]
  },
  {
   "cell_type": "code",
   "execution_count": 16,
   "id": "b60b76bb",
   "metadata": {},
   "outputs": [
    {
     "data": {
      "image/png": "[encoded data removed]",
      "text/plain": [
       "<Figure size 1440x720 with 1 Axes>"
      ]
     },
     "metadata": {
      "needs_background": "light"
     },
     "output_type": "display_data"
    }
   ],
   "source": [
    "# Plotting K-distance Graph\n",
    "distances = np.sort(distances, axis=0)\n",
    "distances = distances[:,1]\n",
    "plt.figure(figsize=(20,10))\n",
    "plt.plot(distances)\n",
    "plt.title('K-distance Graph',fontsize=20)\n",
    "plt.xlabel('Data Points sorted by distance',fontsize=14)\n",
    "plt.ylabel('Epsilon',fontsize=14)\n",
    "plt.show()"
   ]
  },
  {
   "cell_type": "code",
   "execution_count": 17,
   "id": "033e54f3",
   "metadata": {},
   "outputs": [],
   "source": [
    "points_pair_distances = pd.DataFrame(euclidean_distances(x, x)) # calculating the euclidean distance between two points"
   ]
  },
  {
   "cell_type": "code",
   "execution_count": 18,
   "id": "2cacac34",
   "metadata": {},
   "outputs": [
    {
     "data": {
      "text/html": [
       "<div>\n",
       "<style scoped>\n",
       "    .dataframe tbody tr th:only-of-type {\n",
       "        vertical-align: middle;\n",
       "    }\n",
       "\n",
       "    .dataframe tbody tr th {\n",
       "        vertical-align: top;\n",
       "    }\n",
       "\n",
       "    .dataframe thead th {\n",
       "        text-align: right;\n",
       "    }\n",
       "</style>\n",
       "<table border=\"1\" class=\"dataframe\">\n",
       "  <thead>\n",
       "    <tr style=\"text-align: right;\">\n",
       "      <th></th>\n",
       "      <th>0</th>\n",
       "      <th>1</th>\n",
       "      <th>2</th>\n",
       "      <th>3</th>\n",
       "      <th>4</th>\n",
       "      <th>5</th>\n",
       "      <th>6</th>\n",
       "      <th>7</th>\n",
       "      <th>8</th>\n",
       "      <th>9</th>\n",
       "      <th>...</th>\n",
       "      <th>490</th>\n",
       "      <th>491</th>\n",
       "      <th>492</th>\n",
       "      <th>493</th>\n",
       "      <th>494</th>\n",
       "      <th>495</th>\n",
       "      <th>496</th>\n",
       "      <th>497</th>\n",
       "      <th>498</th>\n",
       "      <th>499</th>\n",
       "    </tr>\n",
       "  </thead>\n",
       "  <tbody>\n",
       "    <tr>\n",
       "      <th>0</th>\n",
       "      <td>0.000000</td>\n",
       "      <td>2.529635</td>\n",
       "      <td>0.126085</td>\n",
       "      <td>2.508116</td>\n",
       "      <td>1.043383</td>\n",
       "      <td>0.750773</td>\n",
       "      <td>0.656198</td>\n",
       "      <td>2.029558</td>\n",
       "      <td>1.028076</td>\n",
       "      <td>1.679400</td>\n",
       "      <td>...</td>\n",
       "      <td>1.569266</td>\n",
       "      <td>2.533922</td>\n",
       "      <td>2.516408</td>\n",
       "      <td>1.354604</td>\n",
       "      <td>2.348891</td>\n",
       "      <td>1.317505</td>\n",
       "      <td>2.470690</td>\n",
       "      <td>0.511542</td>\n",
       "      <td>2.143445</td>\n",
       "      <td>1.317246</td>\n",
       "    </tr>\n",
       "    <tr>\n",
       "      <th>1</th>\n",
       "      <td>2.529635</td>\n",
       "      <td>0.000000</td>\n",
       "      <td>2.429752</td>\n",
       "      <td>0.425691</td>\n",
       "      <td>1.507473</td>\n",
       "      <td>1.832038</td>\n",
       "      <td>1.992205</td>\n",
       "      <td>1.326972</td>\n",
       "      <td>1.912732</td>\n",
       "      <td>1.041161</td>\n",
       "      <td>...</td>\n",
       "      <td>1.037969</td>\n",
       "      <td>0.075683</td>\n",
       "      <td>0.376250</td>\n",
       "      <td>1.791648</td>\n",
       "      <td>0.888818</td>\n",
       "      <td>1.212440</td>\n",
       "      <td>0.584341</td>\n",
       "      <td>2.852914</td>\n",
       "      <td>1.199932</td>\n",
       "      <td>1.808147</td>\n",
       "    </tr>\n",
       "    <tr>\n",
       "      <th>2</th>\n",
       "      <td>0.126085</td>\n",
       "      <td>2.429752</td>\n",
       "      <td>0.000000</td>\n",
       "      <td>2.422906</td>\n",
       "      <td>0.933740</td>\n",
       "      <td>0.632415</td>\n",
       "      <td>0.618405</td>\n",
       "      <td>1.986197</td>\n",
       "      <td>1.013452</td>\n",
       "      <td>1.607589</td>\n",
       "      <td>...</td>\n",
       "      <td>1.487977</td>\n",
       "      <td>2.436426</td>\n",
       "      <td>2.429336</td>\n",
       "      <td>1.337571</td>\n",
       "      <td>2.283232</td>\n",
       "      <td>1.220024</td>\n",
       "      <td>2.391741</td>\n",
       "      <td>0.632415</td>\n",
       "      <td>2.093217</td>\n",
       "      <td>1.300949</td>\n",
       "    </tr>\n",
       "    <tr>\n",
       "      <th>3</th>\n",
       "      <td>2.508116</td>\n",
       "      <td>0.425691</td>\n",
       "      <td>2.422906</td>\n",
       "      <td>0.000000</td>\n",
       "      <td>1.555070</td>\n",
       "      <td>1.878404</td>\n",
       "      <td>1.909008</td>\n",
       "      <td>0.978068</td>\n",
       "      <td>1.744529</td>\n",
       "      <td>0.866630</td>\n",
       "      <td>...</td>\n",
       "      <td>0.940609</td>\n",
       "      <td>0.351437</td>\n",
       "      <td>0.050462</td>\n",
       "      <td>1.561413</td>\n",
       "      <td>0.487108</td>\n",
       "      <td>1.222999</td>\n",
       "      <td>0.163835</td>\n",
       "      <td>2.764604</td>\n",
       "      <td>0.831873</td>\n",
       "      <td>1.584785</td>\n",
       "    </tr>\n",
       "    <tr>\n",
       "      <th>4</th>\n",
       "      <td>1.043383</td>\n",
       "      <td>1.507473</td>\n",
       "      <td>0.933740</td>\n",
       "      <td>1.555070</td>\n",
       "      <td>0.000000</td>\n",
       "      <td>0.326569</td>\n",
       "      <td>0.678935</td>\n",
       "      <td>1.407550</td>\n",
       "      <td>0.908235</td>\n",
       "      <td>0.866143</td>\n",
       "      <td>...</td>\n",
       "      <td>0.691938</td>\n",
       "      <td>1.520552</td>\n",
       "      <td>1.552846</td>\n",
       "      <td>1.083376</td>\n",
       "      <td>1.529144</td>\n",
       "      <td>0.339010</td>\n",
       "      <td>1.556012</td>\n",
       "      <td>1.445091</td>\n",
       "      <td>1.455088</td>\n",
       "      <td>1.063945</td>\n",
       "    </tr>\n",
       "    <tr>\n",
       "      <th>...</th>\n",
       "      <td>...</td>\n",
       "      <td>...</td>\n",
       "      <td>...</td>\n",
       "      <td>...</td>\n",
       "      <td>...</td>\n",
       "      <td>...</td>\n",
       "      <td>...</td>\n",
       "      <td>...</td>\n",
       "      <td>...</td>\n",
       "      <td>...</td>\n",
       "      <td>...</td>\n",
       "      <td>...</td>\n",
       "      <td>...</td>\n",
       "      <td>...</td>\n",
       "      <td>...</td>\n",
       "      <td>...</td>\n",
       "      <td>...</td>\n",
       "      <td>...</td>\n",
       "      <td>...</td>\n",
       "      <td>...</td>\n",
       "      <td>...</td>\n",
       "    </tr>\n",
       "    <tr>\n",
       "      <th>495</th>\n",
       "      <td>1.317505</td>\n",
       "      <td>1.212440</td>\n",
       "      <td>1.220024</td>\n",
       "      <td>1.222999</td>\n",
       "      <td>0.339010</td>\n",
       "      <td>0.656303</td>\n",
       "      <td>0.814514</td>\n",
       "      <td>1.119122</td>\n",
       "      <td>0.887329</td>\n",
       "      <td>0.548040</td>\n",
       "      <td>...</td>\n",
       "      <td>0.363851</td>\n",
       "      <td>1.216718</td>\n",
       "      <td>1.223495</td>\n",
       "      <td>0.958097</td>\n",
       "      <td>1.194229</td>\n",
       "      <td>0.000000</td>\n",
       "      <td>1.218190</td>\n",
       "      <td>1.658545</td>\n",
       "      <td>1.146654</td>\n",
       "      <td>0.949672</td>\n",
       "    </tr>\n",
       "    <tr>\n",
       "      <th>496</th>\n",
       "      <td>2.470690</td>\n",
       "      <td>0.584341</td>\n",
       "      <td>2.391741</td>\n",
       "      <td>0.163835</td>\n",
       "      <td>1.556012</td>\n",
       "      <td>1.873467</td>\n",
       "      <td>1.853737</td>\n",
       "      <td>0.831873</td>\n",
       "      <td>1.658545</td>\n",
       "      <td>0.800523</td>\n",
       "      <td>...</td>\n",
       "      <td>0.904070</td>\n",
       "      <td>0.511542</td>\n",
       "      <td>0.214075</td>\n",
       "      <td>1.453785</td>\n",
       "      <td>0.326569</td>\n",
       "      <td>1.218190</td>\n",
       "      <td>0.000000</td>\n",
       "      <td>2.700313</td>\n",
       "      <td>0.680087</td>\n",
       "      <td>1.479517</td>\n",
       "    </tr>\n",
       "    <tr>\n",
       "      <th>497</th>\n",
       "      <td>0.511542</td>\n",
       "      <td>2.852914</td>\n",
       "      <td>0.632415</td>\n",
       "      <td>2.764604</td>\n",
       "      <td>1.445091</td>\n",
       "      <td>1.199932</td>\n",
       "      <td>0.862056</td>\n",
       "      <td>2.121918</td>\n",
       "      <td>1.080437</td>\n",
       "      <td>1.901332</td>\n",
       "      <td>...</td>\n",
       "      <td>1.834204</td>\n",
       "      <td>2.845905</td>\n",
       "      <td>2.781053</td>\n",
       "      <td>1.379607</td>\n",
       "      <td>2.524157</td>\n",
       "      <td>1.658545</td>\n",
       "      <td>2.700313</td>\n",
       "      <td>0.000000</td>\n",
       "      <td>2.260085</td>\n",
       "      <td>1.342672</td>\n",
       "    </tr>\n",
       "    <tr>\n",
       "      <th>498</th>\n",
       "      <td>2.143445</td>\n",
       "      <td>1.199932</td>\n",
       "      <td>2.093217</td>\n",
       "      <td>0.831873</td>\n",
       "      <td>1.455088</td>\n",
       "      <td>1.715805</td>\n",
       "      <td>1.487977</td>\n",
       "      <td>0.163835</td>\n",
       "      <td>1.179650</td>\n",
       "      <td>0.599364</td>\n",
       "      <td>...</td>\n",
       "      <td>0.787457</td>\n",
       "      <td>1.138524</td>\n",
       "      <td>0.877498</td>\n",
       "      <td>0.900103</td>\n",
       "      <td>0.363851</td>\n",
       "      <td>1.146654</td>\n",
       "      <td>0.680087</td>\n",
       "      <td>2.260085</td>\n",
       "      <td>0.000000</td>\n",
       "      <td>0.933740</td>\n",
       "    </tr>\n",
       "    <tr>\n",
       "      <th>499</th>\n",
       "      <td>1.317246</td>\n",
       "      <td>1.808147</td>\n",
       "      <td>1.300949</td>\n",
       "      <td>1.584785</td>\n",
       "      <td>1.063945</td>\n",
       "      <td>1.162897</td>\n",
       "      <td>0.691938</td>\n",
       "      <td>0.785719</td>\n",
       "      <td>0.289170</td>\n",
       "      <td>0.768688</td>\n",
       "      <td>...</td>\n",
       "      <td>0.826469</td>\n",
       "      <td>1.774507</td>\n",
       "      <td>1.615062</td>\n",
       "      <td>0.037848</td>\n",
       "      <td>1.239921</td>\n",
       "      <td>0.949672</td>\n",
       "      <td>1.479517</td>\n",
       "      <td>1.342672</td>\n",
       "      <td>0.933740</td>\n",
       "      <td>0.000000</td>\n",
       "    </tr>\n",
       "  </tbody>\n",
       "</table>\n",
       "<p>500 rows × 500 columns</p>\n",
       "</div>"
      ],
      "text/plain": [
       "          0         1         2         3         4         5         6    \\\n",
       "0    0.000000  2.529635  0.126085  2.508116  1.043383  0.750773  0.656198   \n",
       "1    2.529635  0.000000  2.429752  0.425691  1.507473  1.832038  1.992205   \n",
       "2    0.126085  2.429752  0.000000  2.422906  0.933740  0.632415  0.618405   \n",
       "3    2.508116  0.425691  2.422906  0.000000  1.555070  1.878404  1.909008   \n",
       "4    1.043383  1.507473  0.933740  1.555070  0.000000  0.326569  0.678935   \n",
       "..        ...       ...       ...       ...       ...       ...       ...   \n",
       "495  1.317505  1.212440  1.220024  1.222999  0.339010  0.656303  0.814514   \n",
       "496  2.470690  0.584341  2.391741  0.163835  1.556012  1.873467  1.853737   \n",
       "497  0.511542  2.852914  0.632415  2.764604  1.445091  1.199932  0.862056   \n",
       "498  2.143445  1.199932  2.093217  0.831873  1.455088  1.715805  1.487977   \n",
       "499  1.317246  1.808147  1.300949  1.584785  1.063945  1.162897  0.691938   \n",
       "\n",
       "          7         8         9    ...       490       491       492  \\\n",
       "0    2.029558  1.028076  1.679400  ...  1.569266  2.533922  2.516408   \n",
       "1    1.326972  1.912732  1.041161  ...  1.037969  0.075683  0.376250   \n",
       "2    1.986197  1.013452  1.607589  ...  1.487977  2.436426  2.429336   \n",
       "3    0.978068  1.744529  0.866630  ...  0.940609  0.351437  0.050462   \n",
       "4    1.407550  0.908235  0.866143  ...  0.691938  1.520552  1.552846   \n",
       "..        ...       ...       ...  ...       ...       ...       ...   \n",
       "495  1.119122  0.887329  0.548040  ...  0.363851  1.216718  1.223495   \n",
       "496  0.831873  1.658545  0.800523  ...  0.904070  0.511542  0.214075   \n",
       "497  2.121918  1.080437  1.901332  ...  1.834204  2.845905  2.781053   \n",
       "498  0.163835  1.179650  0.599364  ...  0.787457  1.138524  0.877498   \n",
       "499  0.785719  0.289170  0.768688  ...  0.826469  1.774507  1.615062   \n",
       "\n",
       "          493       494       495       496       497       498       499  \n",
       "0    1.354604  2.348891  1.317505  2.470690  0.511542  2.143445  1.317246  \n",
       "1    1.791648  0.888818  1.212440  0.584341  2.852914  1.199932  1.808147  \n",
       "2    1.337571  2.283232  1.220024  2.391741  0.632415  2.093217  1.300949  \n",
       "3    1.561413  0.487108  1.222999  0.163835  2.764604  0.831873  1.584785  \n",
       "4    1.083376  1.529144  0.339010  1.556012  1.445091  1.455088  1.063945  \n",
       "..        ...       ...       ...       ...       ...       ...       ...  \n",
       "495  0.958097  1.194229  0.000000  1.218190  1.658545  1.146654  0.949672  \n",
       "496  1.453785  0.326569  1.218190  0.000000  2.700313  0.680087  1.479517  \n",
       "497  1.379607  2.524157  1.658545  2.700313  0.000000  2.260085  1.342672  \n",
       "498  0.900103  0.363851  1.146654  0.680087  2.260085  0.000000  0.933740  \n",
       "499  0.037848  1.239921  0.949672  1.479517  1.342672  0.933740  0.000000  \n",
       "\n",
       "[500 rows x 500 columns]"
      ]
     },
     "execution_count": 18,
     "metadata": {},
     "output_type": "execute_result"
    }
   ],
   "source": [
    "points_pair_distances"
   ]
  },
  {
   "cell_type": "code",
   "execution_count": 19,
   "id": "b438a2f2",
   "metadata": {},
   "outputs": [],
   "source": [
    "data_pts = x.shape[0]"
   ]
  },
  {
   "cell_type": "code",
   "execution_count": 20,
   "id": "755e5501",
   "metadata": {},
   "outputs": [
    {
     "name": "stdout",
     "output_type": "stream",
     "text": [
      "[1 2]\n"
     ]
    },
    {
     "data": {
      "text/plain": [
       "<matplotlib.collections.PathCollection at 0x23474db5b20>"
      ]
     },
     "execution_count": 20,
     "metadata": {},
     "output_type": "execute_result"
    },
    {
     "data": {
      "image/png": "[encoded data removed]",
      "text/plain": [
       "<Figure size 432x288 with 1 Axes>"
      ]
     },
     "metadata": {
      "needs_background": "light"
     },
     "output_type": "display_data"
    }
   ],
   "source": [
    "points_label = [-1]*data_pts # all points are initialized to cluster -1(it means cluster not assigned). Noise is points_labelled as cluster 0. \n",
    "seen = [0]*data_pts # flag to mark if the node is seen.\n",
    "\n",
    "min_pts = 20 # minimum neighbors required to be a core point\n",
    "eps = 0.16 # The maximum distance between two sample points for them to be considered as in the same neighborhood.\n",
    "count = 0\n",
    "\n",
    "for i in range(data_pts):\n",
    "    if seen[i] == 0:\n",
    "        seen[i] = 1 # mark seen\n",
    "        friends = points_pair_distances[points_pair_distances[i] <  eps].index.tolist() # find neighbors\n",
    "        if len(friends) -1 >= eps: # see if current point is a core point.\n",
    "            count += 1\n",
    "            points_label[i] = count\n",
    "            for friend in friends:\n",
    "                if friend != i: \n",
    "                    if seen[friend] == 0:\n",
    "                        seen[friend] = 1\n",
    "                        mutual_friends = points_pair_distances[points_pair_distances[friend] <  eps].index.tolist() \n",
    "                        if len(mutual_friends) -1 >= eps: # check if the neighbor is a core point\n",
    "                            friends.extend(mutual_friends) # adding the neighbors of the core point to same cluster.\n",
    "                        if points_label[friend] == -1:\n",
    "                            points_label[friend] = count\n",
    "        else:\n",
    "            points_label[i] = 0 # classification for noise \n",
    "print(np.unique(points_label)) # ID's of all clusters identified\n",
    "plt.scatter(x.iloc[:, 0], x.iloc[:, 1], c= points_label )"
   ]
  },
  {
   "cell_type": "markdown",
   "id": "a7887eb5",
   "metadata": {},
   "source": [
    "# Above is the plot of data points"
   ]
  },
  {
   "cell_type": "code",
   "execution_count": 21,
   "id": "ea93e160",
   "metadata": {},
   "outputs": [],
   "source": [
    "x1 = pd.read_csv(r'C:\\Users\\naman\\Downloads\\dataset2.txt', delimiter= '\\s+', header=None)"
   ]
  },
  {
   "cell_type": "markdown",
   "id": "64201776",
   "metadata": {},
   "source": [
    "# (c) Difference between DBSCAN and K-means :\n",
    "   -K-Means is the most widely-used centroid-based clustering algorithm. \n",
    "   -Centroid-based algorithms are efficient but sensitive to initial conditions and outliers, so due to this, we see the            differences.\n",
    "   -While in case of DBSCAN which is a density-based method, clustering connects areas of high example density into clusters.\n",
    "    This allows for arbitrary-shaped distributions as long as dense areas can be connected."
   ]
  },
  {
   "cell_type": "markdown",
   "id": "0684294a",
   "metadata": {},
   "source": [
    "# (d)  Dataset 2"
   ]
  },
  {
   "cell_type": "markdown",
   "id": "c35c5740",
   "metadata": {},
   "source": [
    "# K-means to find number of clusters"
   ]
  },
  {
   "cell_type": "code",
   "execution_count": 22,
   "id": "2b7692bb",
   "metadata": {},
   "outputs": [],
   "source": [
    "sil = []\n",
    "kmax = 10\n",
    "\n",
    "# dissimilarity would not be defined for a single cluster, thus, minimum number of clusters should be 2\n",
    "for k in range(2, kmax+1):\n",
    "  kmeans = KMeans(n_clusters = k).fit(x1)\n",
    "  labels = kmeans.labels_\n",
    "  sil.append(silhouette_score(x1, labels, metric = 'euclidean'))"
   ]
  },
  {
   "cell_type": "code",
   "execution_count": 23,
   "id": "08041f8e",
   "metadata": {},
   "outputs": [],
   "source": [
    "x_point = [x for x in range(2,11)]"
   ]
  },
  {
   "cell_type": "code",
   "execution_count": 24,
   "id": "ac6c98e5",
   "metadata": {},
   "outputs": [
    {
     "data": {
      "image/png": "[encoded data removed]",
      "text/plain": [
       "<Figure size 432x288 with 1 Axes>"
      ]
     },
     "metadata": {
      "needs_background": "light"
     },
     "output_type": "display_data"
    }
   ],
   "source": [
    "plt.plot(x_point, sil)\n",
    "plt.grid()"
   ]
  },
  {
   "cell_type": "code",
   "execution_count": 25,
   "id": "82275cb1",
   "metadata": {},
   "outputs": [
    {
     "data": {
      "text/plain": [
       "KMeans(n_clusters=3)"
      ]
     },
     "execution_count": 25,
     "metadata": {},
     "output_type": "execute_result"
    }
   ],
   "source": [
    "Kmean = KMeans(n_clusters=3)\n",
    "Kmean.fit(x1)"
   ]
  },
  {
   "cell_type": "code",
   "execution_count": 26,
   "id": "192e6867",
   "metadata": {},
   "outputs": [],
   "source": [
    "centroids = Kmean.cluster_centers_"
   ]
  },
  {
   "cell_type": "code",
   "execution_count": 27,
   "id": "656927c0",
   "metadata": {},
   "outputs": [],
   "source": [
    "label = Kmean.fit_predict(x1)"
   ]
  },
  {
   "cell_type": "code",
   "execution_count": 28,
   "id": "10e7e1de",
   "metadata": {},
   "outputs": [],
   "source": [
    "x1['label']=label"
   ]
  },
  {
   "cell_type": "code",
   "execution_count": 29,
   "id": "5377b0bb",
   "metadata": {},
   "outputs": [
    {
     "data": {
      "image/png": "[encoded data removed]",
      "text/plain": [
       "<Figure size 432x288 with 1 Axes>"
      ]
     },
     "metadata": {
      "needs_background": "light"
     },
     "output_type": "display_data"
    }
   ],
   "source": [
    "#Getting unique labels\n",
    " \n",
    "u_labels = np.unique(label)\n",
    " \n",
    "#plotting the results:\n",
    " \n",
    "for i in u_labels:\n",
    "    plt.scatter(x1[label == i][ 0] , x1[label == i][ 1] , label = i)\n",
    "plt.legend()\n",
    "plt.show()"
   ]
  },
  {
   "cell_type": "code",
   "execution_count": 30,
   "id": "66bf50b4",
   "metadata": {},
   "outputs": [],
   "source": [
    "x1 = x1.drop('label', axis = 1)"
   ]
  },
  {
   "cell_type": "markdown",
   "id": "42119055",
   "metadata": {},
   "source": [
    "# DBSCAN to plot points"
   ]
  },
  {
   "cell_type": "code",
   "execution_count": 31,
   "id": "a6da7290",
   "metadata": {},
   "outputs": [],
   "source": [
    "from sklearn.neighbors import NearestNeighbors\n",
    "neigh = NearestNeighbors(n_neighbors=2)\n",
    "nbrs = neigh.fit(x1[[0,1]])\n",
    "distances, indices = nbrs.kneighbors(x1[[0,1]])"
   ]
  },
  {
   "cell_type": "code",
   "execution_count": 32,
   "id": "2183c9a4",
   "metadata": {},
   "outputs": [
    {
     "data": {
      "image/png": "[encoded data removed]",
      "text/plain": [
       "<Figure size 1440x720 with 1 Axes>"
      ]
     },
     "metadata": {
      "needs_background": "light"
     },
     "output_type": "display_data"
    }
   ],
   "source": [
    "# Plotting K-distance Graph\n",
    "distances = np.sort(distances, axis=0)\n",
    "distances = distances[:,1]\n",
    "plt.figure(figsize=(20,10))\n",
    "plt.plot(distances)\n",
    "plt.title('K-distance Graph',fontsize=20)\n",
    "plt.xlabel('Data Points sorted by distance',fontsize=14)\n",
    "plt.ylabel('Epsilon',fontsize=14)\n",
    "plt.show()"
   ]
  },
  {
   "cell_type": "code",
   "execution_count": 33,
   "id": "8a4a3ffd",
   "metadata": {},
   "outputs": [],
   "source": [
    "points_pair_distances = pd.DataFrame(euclidean_distances(x1, x1)) # calculating the euclidean distance between two points"
   ]
  },
  {
   "cell_type": "code",
   "execution_count": 34,
   "id": "e11dea6f",
   "metadata": {},
   "outputs": [],
   "source": [
    "data_pts = x1.shape[0]"
   ]
  },
  {
   "cell_type": "code",
   "execution_count": 35,
   "id": "4142100c",
   "metadata": {},
   "outputs": [
    {
     "name": "stdout",
     "output_type": "stream",
     "text": [
      "[0 1 2]\n"
     ]
    },
    {
     "data": {
      "text/plain": [
       "<matplotlib.collections.PathCollection at 0x234751c83a0>"
      ]
     },
     "execution_count": 35,
     "metadata": {},
     "output_type": "execute_result"
    },
    {
     "data": {
      "image/png": "[encoded data removed]",
      "text/plain": [
       "<Figure size 432x288 with 1 Axes>"
      ]
     },
     "metadata": {
      "needs_background": "light"
     },
     "output_type": "display_data"
    }
   ],
   "source": [
    "points_label = [-1]*data_pts # all points are initialized to cluster -1(it means cluster not assigned). Noise is points_labelled as cluster 0. \n",
    "seen = [0]*data_pts # flag to mark if the node is seen.\n",
    "\n",
    "min_pts = 4 # minimum neighbors required to be a core point\n",
    "eps = 3 # The maximum distance between two sample points for them to be considered as in the same neighborhood.\n",
    "count = 0\n",
    "\n",
    "for i in range(data_pts):\n",
    "    if seen[i] == 0:\n",
    "        seen[i] = 1 # mark seen\n",
    "        friends = points_pair_distances[points_pair_distances[i] <  eps].index.tolist() # find neighbors\n",
    "        if len(friends) -1 >= eps: # see if current point is a core point.\n",
    "            count += 1\n",
    "            points_label[i] = count\n",
    "            for friend in friends:\n",
    "                if friend != i: \n",
    "                    if seen[friend] == 0:\n",
    "                        seen[friend] = 1\n",
    "                        mutual_friends = points_pair_distances[points_pair_distances[friend] <  eps].index.tolist() \n",
    "                        if len(mutual_friends) -1 >= eps: # check if the neighbor is a core point\n",
    "                            friends.extend(mutual_friends) # adding the neighbors of the core point to same cluster.\n",
    "                        if points_label[friend] == -1:\n",
    "                            points_label[friend] = count\n",
    "        else:\n",
    "            points_label[i] = 0 # classification for noise \n",
    "print(np.unique(points_label)) # ID's of all clusters identified\n",
    "plt.scatter(x1.iloc[:, 0], x1.iloc[:, 1], c= points_label )"
   ]
  },
  {
   "cell_type": "markdown",
   "id": "cb4931f4",
   "metadata": {},
   "source": [
    "# (d)\tConclusions on pros and cons of using DBSCAN and K-Means: -\n",
    "(i)\tAdvantages of DBSCAN: \n",
    "\t-DBSCAN does not require one to clusters in the data, as opposed to k-means. \n",
    "\t-DBSCAN find deformed-shaped clusters.\n",
    "(ii)\tDisadvantages of DBSCAN:\n",
    "\t-DBSCAN algorithm fails in case of varying density clusters.\n",
    "\t-Does not work well in case of high dimensional data.\n",
    "    \n",
    "(iii)\tAdvantages of K-Means: \n",
    "\t-Relatively simple to implement. \n",
    "\t-Scales to large data sets.\n",
    "\t-Can be initialised using Initial values\n",
    "(iv)\tDisadvantages of K-Means: \n",
    "\t-Difficult to predict K-Value.\n",
    "\t-K-Means produce tighter clusters, when the clusters are blob like.\n",
    "\t-Scaling with a Number of Dimensions.  As the number of dimensions increases, a distance-based similarity measure converges\n",
    "    to a constant value between any given examples. \n",
    "    -Reduce dimensionality either by using PCA on the feature data or by using “spectral clustering” to modify the clustering\n",
    "    algorithm."
   ]
  },
  {
   "cell_type": "code",
   "execution_count": null,
   "id": "a747a767",
   "metadata": {},
   "outputs": [],
   "source": []
  }
 ],
 "metadata": {
  "kernelspec": {
   "display_name": "Python 3",
   "language": "python",
   "name": "python3"
  },
  "language_info": {
   "codemirror_mode": {
    "name": "ipython",
    "version": 3
   },
   "file_extension": ".py",
   "mimetype": "text/x-python",
   "name": "python",
   "nbconvert_exporter": "python",
   "pygments_lexer": "ipython3",
   "version": "3.8.8"
  }
 },
 "nbformat": 4,
 "nbformat_minor": 5
}
