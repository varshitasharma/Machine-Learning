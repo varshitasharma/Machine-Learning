{
 "cells": [
  {
   "cell_type": "code",
   "execution_count": 1,
   "id": "86ab3140",
   "metadata": {},
   "outputs": [],
   "source": [
    "from sklearn  import svm\n",
    "from sklearn.svm import SVC\n",
    "import pandas as pd\n",
    "from sklearn.metrics import roc_auc_score, accuracy_score, confusion_matrix, roc_curve, precision_score, recall_score, precision_recall_curve\n",
    "import warnings\n",
    "warnings.simplefilter(action='ignore', category=FutureWarning)\n",
    "warnings.simplefilter(action='ignore', category=UserWarning)"
   ]
  },
  {
   "cell_type": "code",
   "execution_count": 2,
   "id": "da9f357c",
   "metadata": {},
   "outputs": [],
   "source": [
    "X_train = pd.read_csv(r'C:\\Users\\naman\\Downloads\\gisette_train.txt', delimiter=\"\\s+\", header=None)\n",
    "Y_train = pd.read_csv(r'C:\\Users\\naman\\Downloads\\gisette_train_labels.txt', delimiter=\"\\s+\", header=None)\n",
    "X_test = pd.read_csv(r'C:\\Users\\naman\\Downloads\\gisette_valid_data.txt', delimiter=\"\\s+\", header=None)\n",
    "Y_test = pd.read_csv(r'C:\\Users\\naman\\Downloads\\gisette_valid_lables.txt', delimiter=\"\\s+\", header=None)\n"
   ]
  },
  {
   "cell_type": "markdown",
   "id": "8de4337a",
   "metadata": {},
   "source": [
    "# 5(a) Linear Kernel"
   ]
  },
  {
   "cell_type": "code",
   "execution_count": 3,
   "id": "a532a18f",
   "metadata": {},
   "outputs": [
    {
     "name": "stdout",
     "output_type": "stream",
     "text": [
      "Training error = 0.0  Testing error = 0.02400000000000002  Support vectors = 1084\n"
     ]
    }
   ],
   "source": [
    "linear_kernel = svm.SVC( kernel='linear')\n",
    "linear_clf = linear_kernel.fit(X_train, Y_train)\n",
    "pred_train = linear_clf.predict(X_train)\n",
    "pred_test = linear_clf.predict(X_test)\n",
    "acc_train = accuracy_score(Y_train,pred_train)\n",
    "error_train= 1-acc_train\n",
    "acc_test = accuracy_score(Y_test,pred_test)\n",
    "error_test= 1-acc_test\n",
    "num = len(linear_clf.support_vectors_)\n",
    "\n",
    "print(\"Training error = \"+ str(error_train),\" Testing error = \"+ str(error_test),\" Support vectors = \" + str(num))"
   ]
  },
  {
   "cell_type": "markdown",
   "id": "43128ed5",
   "metadata": {},
   "source": [
    "# 5(b) RBF Kernel, gamma = 0.001"
   ]
  },
  {
   "cell_type": "code",
   "execution_count": 5,
   "id": "9238e782",
   "metadata": {},
   "outputs": [
    {
     "name": "stdout",
     "output_type": "stream",
     "text": [
      "Training error = 0.0  Testing error = 0.5  Support vectors = 1084\n"
     ]
    }
   ],
   "source": [
    "rbf_kernel = svm.SVC(  kernel='rbf', gamma=0.001)\n",
    "rbf_clf = rbf_kernel.fit(X_train, Y_train)\n",
    "pred_train = rbf_clf.predict(X_train)\n",
    "pred_test = rbf_clf.predict(X_test)\n",
    "acc_train = accuracy_score(Y_train,pred_train)\n",
    "error_train= 1-acc_train\n",
    "acc_test = accuracy_score(Y_test,pred_test)\n",
    "error_test= 1-acc_test\n",
    "num = len(linear_clf.support_vectors_)\n",
    "\n",
    "print(\"Training error = \"+ str(error_train),\" Testing error = \"+ str(error_test),\" Support vectors = \" + str(num))\n"
   ]
  },
  {
   "cell_type": "markdown",
   "id": "8ca2205b",
   "metadata": {},
   "source": [
    "# 5(b) Polynomial Kernel, degree=2, coef0=1"
   ]
  },
  {
   "cell_type": "code",
   "execution_count": 6,
   "id": "8a3a2fe7",
   "metadata": {
    "scrolled": false
   },
   "outputs": [
    {
     "name": "stdout",
     "output_type": "stream",
     "text": [
      "Training error = 0.0  Testing error = 0.02400000000000002  Support vectors = 1084\n"
     ]
    }
   ],
   "source": [
    "poly_kernel = svm.SVC(  kernel='poly', coef0=1, degree=2, gamma=1)\n",
    "poly_clf = poly_kernel.fit(X_train, Y_train)\n",
    "pred_train = poly_clf.predict(X_train)\n",
    "pred_test = poly_clf.predict(X_test)\n",
    "acc_train = accuracy_score(Y_train,pred_train)\n",
    "error_train= 1-acc_train\n",
    "acc_test = accuracy_score(Y_test,pred_test)\n",
    "error_test= 1-acc_test\n",
    "num = len(linear_clf.support_vectors_)\n",
    "\n",
    "print(\"Training error = \"+ str(error_train),\" Testing error = \"+ str(error_test),\" Support vectors = \" + str(num))"
   ]
  },
  {
   "cell_type": "markdown",
   "id": "c5192671",
   "metadata": {},
   "source": [
    "# All the kernels, linear, RBF and polynomial yield same training error = 0.0"
   ]
  },
  {
   "cell_type": "code",
   "execution_count": null,
   "id": "af46e185",
   "metadata": {},
   "outputs": [],
   "source": []
  }
 ],
 "metadata": {
  "kernelspec": {
   "display_name": "Python 3",
   "language": "python",
   "name": "python3"
  },
  "language_info": {
   "codemirror_mode": {
    "name": "ipython",
    "version": 3
   },
   "file_extension": ".py",
   "mimetype": "text/x-python",
   "name": "python",
   "nbconvert_exporter": "python",
   "pygments_lexer": "ipython3",
   "version": "3.8.8"
  }
 },
 "nbformat": 4,
 "nbformat_minor": 5
}
