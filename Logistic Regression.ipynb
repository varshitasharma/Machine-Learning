{
 "cells": [
  {
   "cell_type": "code",
   "execution_count": 1,
   "id": "d41b63e8",
   "metadata": {},
   "outputs": [],
   "source": [
    "import pandas as pd\n",
    "import numpy as np\n",
    "import matplotlib.pyplot as plt"
   ]
  },
  {
   "cell_type": "code",
   "execution_count": 2,
   "id": "52baf8c3",
   "metadata": {},
   "outputs": [],
   "source": [
    "tr = {'x1':[0.346, 0.303, 0.358, 0.602, 0.790, 0.611],\n",
    "         'x2':[0.780, 0.439, 0.729, 0.863, 0.753, 0.965],\n",
    "         'y' :[0, 0, 0, 1, 1, 1]}\n",
    "  \n",
    "te = {'x1':[0.959, 0.750, 0.395, 0.823, 0.761, 0.844],\n",
    "         'x2':[0.382, 0.306, 0.760, 0.764, 0.874, 0.435],\n",
    "         'y' :[0, 0, 0, 1, 1, 1]}\n",
    "# Create DataFrame\n",
    "train = pd.DataFrame(tr)\n",
    "test = pd.DataFrame(te)"
   ]
  },
  {
   "cell_type": "code",
   "execution_count": 3,
   "id": "a8a3267f",
   "metadata": {},
   "outputs": [],
   "source": [
    "train_df =np.array(train).reshape(6,3,1)"
   ]
  },
  {
   "cell_type": "code",
   "execution_count": 4,
   "id": "1c5b2ed4",
   "metadata": {},
   "outputs": [],
   "source": [
    "x_train = train.drop('y', axis=1)\n",
    "y_train = train['y']"
   ]
  },
  {
   "cell_type": "code",
   "execution_count": 5,
   "id": "53c26853",
   "metadata": {},
   "outputs": [],
   "source": [
    "x_train = np.array(x_train)\n",
    "y_train = np.array(y_train).reshape(6,1)"
   ]
  },
  {
   "cell_type": "code",
   "execution_count": 6,
   "id": "e04e095e",
   "metadata": {},
   "outputs": [],
   "source": [
    "x_test = test.drop('y', axis=1)\n",
    "y_test = test['y']\n",
    "x_test = np.array(x_test)\n",
    "y_test = np.array(y_test).reshape(6,1)"
   ]
  },
  {
   "cell_type": "code",
   "execution_count": 7,
   "id": "84743f25",
   "metadata": {},
   "outputs": [],
   "source": [
    "def sigmoid(z):\n",
    "    return 1.0/(1 + np.exp(-z))"
   ]
  },
  {
   "cell_type": "code",
   "execution_count": 8,
   "id": "0dfc9aea",
   "metadata": {},
   "outputs": [],
   "source": [
    "def loss(y, y_hat,m):\n",
    "    loss = (-1/m)*(np.sum(y*(np.log(y_hat)) + (1-y)*np.log(1-y_hat)))\n",
    "    return loss"
   ]
  },
  {
   "cell_type": "code",
   "execution_count": 9,
   "id": "fc272d48",
   "metadata": {},
   "outputs": [],
   "source": [
    "def gradients(X, y, y_hat):\n",
    "    \n",
    "    # X --> Input.\n",
    "    # y --> true/target value.\n",
    "    # y_hat --> hypothesis/predictions.\n",
    "    # w --> weights (parameter).\n",
    "    # b --> bias (parameter).\n",
    "    \n",
    "    # m-> number of training examples.\n",
    "    m = X.shape[0]\n",
    "    \n",
    "    # Gradient of loss w.r.t weights.\n",
    "    dw = (1/m)*np.dot(X.T, (y_hat - y))\n",
    "    \n",
    "    # Gradient of loss w.r.t bias.\n",
    "    db = (1/m)*np.sum((y_hat - y)) \n",
    "    \n",
    "    return dw, db"
   ]
  },
  {
   "cell_type": "code",
   "execution_count": 10,
   "id": "78e6a2f1",
   "metadata": {},
   "outputs": [],
   "source": [
    "def normalize(X):\n",
    "    \n",
    "    # X --> Input.\n",
    "    \n",
    "    # m-> number of training examples\n",
    "    # n-> number of features \n",
    "    m, n = X.shape\n",
    "    \n",
    "    # Normalizing all the n features of X.\n",
    "    for i in range(n):\n",
    "        X = (X - X.mean(axis=0))/X.std(axis=0)\n",
    "        \n",
    "    return X"
   ]
  },
  {
   "cell_type": "code",
   "execution_count": 11,
   "id": "85158695",
   "metadata": {},
   "outputs": [],
   "source": [
    "def plot_decision_boundary(X, w, b,y):\n",
    "    \n",
    "    # X --> Inputs\n",
    "    # w --> weights\n",
    "    # b --> bias\n",
    "    \n",
    "    # The Line is y=mx+c\n",
    "    # So, Equate mx+c = w.X + b\n",
    "    # Solving we find m and c\n",
    "    x1 = [min(X[:,0]), max(X[:,0])]\n",
    "    m = -w[0]/w[1]\n",
    "    c = -b/w[1]\n",
    "    x2 = m*x1 + c\n",
    "    \n",
    "    # Plotting\n",
    "    fig = plt.figure(figsize=(10,8))\n",
    "    plt.plot(X[:, 0][y==0], X[:, 1][y==0], \"sb\")\n",
    "    plt.plot(X[:, 0][y==1], X[:, 1][y==1], \"or\")\n",
    "    plt.xlim([-2, 2])\n",
    "    plt.ylim([0, 2.2])\n",
    "    plt.xlabel(\"feature 1\")\n",
    "    plt.ylabel(\"feature 2\")\n",
    "    plt.title('Decision Boundary')\n",
    "    plt.plot(x1, x2, 'y-')"
   ]
  },
  {
   "cell_type": "code",
   "execution_count": 12,
   "id": "7e210997",
   "metadata": {},
   "outputs": [],
   "source": [
    "def train(w,b,X, y, bs, epochs, lr):\n",
    "    \n",
    "    # X --> Input.\n",
    "    # y --> true/target value.\n",
    "    # bs --> Batch Size.\n",
    "    # epochs --> Number of iterations.\n",
    "    # lr --> Learning rate.\n",
    "        \n",
    "    # m-> number of training examples\n",
    "    # n-> number of features \n",
    "    m, n = X.shape\n",
    "    \n",
    "    # Initializing weights and bias to zeros.\n",
    "   # w = np.zeros((n,1))\n",
    "   # b = 0\n",
    "    \n",
    "    # Reshaping y.\n",
    "    y = y.reshape(m,1)\n",
    "    \n",
    "    # Normalizing the inputs.\n",
    "    x = normalize(X)\n",
    "    \n",
    "    # Empty list to store losses.\n",
    "    losses = []\n",
    "    \n",
    "    # Training loop.\n",
    "    for epoch in range(epochs):\n",
    "        for i in range((m-1)//bs + 1):\n",
    "            \n",
    "            # Defining batches. SGD.\n",
    "            start_i = i*bs\n",
    "            end_i = start_i + bs\n",
    "            xb = X[start_i:end_i]\n",
    "            yb = y[start_i:end_i]\n",
    "            \n",
    "            # Calculating hypothesis/prediction.\n",
    "            y_hat = sigmoid(np.dot(xb, w) + b)\n",
    "            \n",
    "            # Getting the gradients of loss w.r.t parameters.\n",
    "            dw, db = gradients(xb, yb, y_hat)\n",
    "            \n",
    "            # Updating the parameters.\n",
    "            w -= lr*dw\n",
    "            b -= lr*db\n",
    "        \n",
    "        # Calculating loss and appending it in the list.\n",
    "        l = loss(y, sigmoid(np.dot(X, w) + b),m)\n",
    "        losses.append(l)\n",
    "        \n",
    "    # returning weights, bias and losses(List).\n",
    "    return w, b, losses"
   ]
  },
  {
   "cell_type": "code",
   "execution_count": 13,
   "id": "b19b2f81",
   "metadata": {},
   "outputs": [],
   "source": [
    "def predict(X,w,b):\n",
    "    \n",
    "    # X --> Input.\n",
    "    \n",
    "    # Calculating presictions/y_hat.\n",
    "    preds = sigmoid(np.dot(X, w) + b)\n",
    "    \n",
    "    # Empty List to store predictions.\n",
    "    pred_class = []\n",
    "    # if y_hat >= 0.5 --> round up to 1\n",
    "    # if y_hat < 0.5 --> round up to 1\n",
    "    pred_class = [1 if i > 0.5 else 0 for i in preds]\n",
    "    \n",
    "    return np.array(pred_class)"
   ]
  },
  {
   "cell_type": "code",
   "execution_count": 14,
   "id": "f7a81db3",
   "metadata": {
    "scrolled": false
   },
   "outputs": [
    {
     "name": "stdout",
     "output_type": "stream",
     "text": [
      "Optimized weights: [2.16125033] [0.71068025]\n",
      "Optimized intercept: -1.4760817503646968\n",
      "Train Accuracy 1.0\n",
      "Train Accuracy 0.6666666666666666\n"
     ]
    },
    {
     "data": {
      "image/png": "[encoded data removed]",
      "text/plain": [
       "<Figure size 720x576 with 1 Axes>"
      ]
     },
     "metadata": {
      "needs_background": "light"
     },
     "output_type": "display_data"
    }
   ],
   "source": [
    "# Training \n",
    "\n",
    "from sklearn.metrics import accuracy_score\n",
    "\n",
    "w, b, l = train( np.zeros((x_train.shape[1],1)), 0, x_train,  y_train, 10, 1000, 0.04)\n",
    "# Plotting Decision Boundary\n",
    "#print(x_train.shape)\n",
    "plot_decision_boundary(train_df, w, b, y_train)\n",
    "print(\"Optimized weights:\" ,w[0],w[1])\n",
    "print(\"Optimized intercept:\",b)\n",
    "\n",
    "pred_train =predict(x_train,w,b)\n",
    "print('Train Accuracy',accuracy_score(pred_train.T, y_train))\n",
    "pred_test =predict(x_test,w,b)\n",
    "print('Train Accuracy',accuracy_score(pred_test.T, y_test))"
   ]
  },
  {
   "cell_type": "markdown",
   "id": "905183c1",
   "metadata": {},
   "source": [
    "# (b)(i) Logistic model P(ˆy = 1|x1, x2) and its cross-entropy error function"
   ]
  },
  {
   "cell_type": "code",
   "execution_count": 15,
   "id": "3326200d",
   "metadata": {},
   "outputs": [],
   "source": [
    "w = [1.5, 0.5]\n",
    "b= -1"
   ]
  },
  {
   "cell_type": "code",
   "execution_count": 16,
   "id": "14180abc",
   "metadata": {},
   "outputs": [],
   "source": [
    "logistic_model = sigmoid(np.dot(w,x_train.T)+b)"
   ]
  },
  {
   "cell_type": "code",
   "execution_count": 17,
   "id": "fc13e560",
   "metadata": {},
   "outputs": [
    {
     "name": "stdout",
     "output_type": "stream",
     "text": [
      "Logistic model-P(ˆy = 1|x1, x2): [0.47726569 0.4192142  0.47539489 0.58285389 0.63679954 0.59844738]\n",
      "Cross entropy loss: 4.24695047852859\n"
     ]
    }
   ],
   "source": [
    "#cross_entropy = loss(np.array(y_train), logistic_model, x_train.shape[0])\n",
    "m= x_train.shape[0]\n",
    "cross_entropy = (-1/m)*(np.sum((y_train*np.log(logistic_model)) + ((1-y_train)*(np.log(1-logistic_model)))))\n",
    "\n",
    "print(\"Logistic model-P(ˆy = 1|x1, x2):\",logistic_model)\n",
    "print(\"Cross entropy loss:\",cross_entropy)\n",
    "#print(y_train)\n"
   ]
  },
  {
   "cell_type": "markdown",
   "id": "ad064a4b",
   "metadata": {},
   "source": [
    "# (b) (ii) Use gradient descent to update θ0, θ1, θ2 for one iteration. Write down the updated logistic regression model."
   ]
  },
  {
   "cell_type": "code",
   "execution_count": 18,
   "id": "4e1842f8",
   "metadata": {},
   "outputs": [],
   "source": [
    "w = np.array([[1.5], [0.5]])\n",
    "b = -1\n",
    "\n",
    "w1, b1, losses = train(w,b,x_train, np.array(y_train), bs=10, epochs=1, lr=0.1)"
   ]
  },
  {
   "cell_type": "code",
   "execution_count": 19,
   "id": "69893950",
   "metadata": {},
   "outputs": [
    {
     "name": "stdout",
     "output_type": "stream",
     "text": [
      "Optimized weights : [1.50535086] [0.50196867]\n",
      "Optimized intercept : -1.0031662597725644\n"
     ]
    },
    {
     "data": {
      "image/png": "[encoded data removed]",
      "text/plain": [
       "<Figure size 720x576 with 1 Axes>"
      ]
     },
     "metadata": {
      "needs_background": "light"
     },
     "output_type": "display_data"
    }
   ],
   "source": [
    "plot_decision_boundary(train_df, w, b, y_train)\n",
    "print(\"Optimized weights :\", w1[0],w1[1])\n",
    "print(\"Optimized intercept :\", b1)\n",
    "\n"
   ]
  },
  {
   "cell_type": "markdown",
   "id": "380591f0",
   "metadata": {},
   "source": [
    "# (b) (iii) At convergence of gradient descent, use the model to make predictions for all the samples in the test dataset. Calculate and report the accuracy, precision and recall to evaluate this model."
   ]
  },
  {
   "cell_type": "code",
   "execution_count": 20,
   "id": "e6068143",
   "metadata": {},
   "outputs": [],
   "source": [
    "w = np.array([[1.5], [0.5]])\n",
    "b = -1"
   ]
  },
  {
   "cell_type": "code",
   "execution_count": 21,
   "id": "e36f7626",
   "metadata": {},
   "outputs": [],
   "source": [
    "w1,b1, cross_entropy = train(w,b,x_train, y_train, bs=10, epochs=100000, lr=0.1)"
   ]
  },
  {
   "cell_type": "code",
   "execution_count": 22,
   "id": "adbc6008",
   "metadata": {},
   "outputs": [
    {
     "name": "stdout",
     "output_type": "stream",
     "text": [
      "Optimized weights : [31.36347263] [7.53262099]\n",
      "Optimized intercept : -21.19055157257816\n",
      "Train Accuracy : 1.0\n",
      "Test Accuracy : 0.6666666666666666\n",
      "Precision : 0.6\n",
      "Recall : 1.0\n"
     ]
    },
    {
     "data": {
      "image/png": "[encoded data removed]",
      "text/plain": [
       "<Figure size 720x576 with 1 Axes>"
      ]
     },
     "metadata": {
      "needs_background": "light"
     },
     "output_type": "display_data"
    }
   ],
   "source": [
    "from sklearn.metrics import accuracy_score\n",
    "from sklearn.metrics import precision_score\n",
    "from sklearn.metrics import recall_score\n",
    "\n",
    "plot_decision_boundary(train_df, w, b, y_train)\n",
    "print(\"Optimized weights :\", w1[0],w1[1])\n",
    "print(\"Optimized intercept :\", b1)\n",
    "\n",
    "pred_train =predict(x_train,w1,b1)\n",
    "print('Train Accuracy :',accuracy_score(pred_train.T, y_train))\n",
    "pred_test =predict(x_test,w1,b1)\n",
    "print('Test Accuracy :',accuracy_score(pred_test.T, y_test))\n",
    "print( 'Precision :',precision_score(y_test,predict(x_test,w1,b1)))\n",
    "print( 'Recall :',recall_score(y_test,predict(x_test,w1,b1)))\n"
   ]
  }
 ],
 "metadata": {
  "kernelspec": {
   "display_name": "Python 3",
   "language": "python",
   "name": "python3"
  },
  "language_info": {
   "codemirror_mode": {
    "name": "ipython",
    "version": 3
   },
   "file_extension": ".py",
   "mimetype": "text/x-python",
   "name": "python",
   "nbconvert_exporter": "python",
   "pygments_lexer": "ipython3",
   "version": "3.8.8"
  }
 },
 "nbformat": 4,
 "nbformat_minor": 5
}
