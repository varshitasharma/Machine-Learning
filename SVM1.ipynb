{
 "cells": [
  {
   "cell_type": "code",
   "execution_count": 38,
   "id": "721dd893",
   "metadata": {},
   "outputs": [],
   "source": [
    "from sklearn  import svm\n",
    "import numpy as np\n",
    "from sklearn.svm import SVC\n",
    "import matplotlib.pyplot as plt\n",
    "from sklearn.metrics import roc_auc_score, accuracy_score, confusion_matrix, roc_curve, precision_score, recall_score, precision_recall_curve\n",
    "import warnings\n",
    "import pandas as pd"
   ]
  },
  {
   "cell_type": "code",
   "execution_count": 39,
   "id": "f678abab",
   "metadata": {},
   "outputs": [],
   "source": [
    "test = pd.read_csv(r'C:\\Users\\naman\\OneDrive\\Desktop\\varshu\\IIT Hyderabad\\SEM 1\\FOML\\ASSIGNMENT2\\features_test.txt', delimiter= '\\s+', header=None)\n",
    "train = pd.read_csv(r'C:\\Users\\naman\\OneDrive\\Desktop\\varshu\\IIT Hyderabad\\SEM 1\\FOML\\ASSIGNMENT2\\features_train.txt', delimiter= '\\s+', header=None)"
   ]
  },
  {
   "cell_type": "code",
   "execution_count": 40,
   "id": "16b20bdb",
   "metadata": {},
   "outputs": [],
   "source": [
    "train1 = train[(train[0]==1.0) | (train[0]==5.0)] \n",
    "test1 = test[(test[0]==1.0) | (test[0]==5.0)]\n",
    "X_train = train1.drop([0], axis=1)\n",
    "Y_train = train1[0]\n",
    "X_test = test1.drop([0], axis=1)\n",
    "Y_test = test1[0]"
   ]
  },
  {
   "cell_type": "markdown",
   "id": "8938a672",
   "metadata": {},
   "source": [
    "# Q 4(a) Kernel = Linear \n"
   ]
  },
  {
   "cell_type": "code",
   "execution_count": 53,
   "id": "1a36ced0",
   "metadata": {},
   "outputs": [
    {
     "name": "stdout",
     "output_type": "stream",
     "text": [
      "Testing accuracy = 0.9787735849056604\n",
      "Number of sopport vectors = 28\n"
     ]
    }
   ],
   "source": [
    "linear_kernel = svm.SVC(  kernel='linear')\n",
    "linear_clf = linear_kernel.fit(X_train, Y_train)\n",
    "pred_test = linear_clf.predict(X_test)\n",
    "acc_test = accuracy_score(Y_test,pred_test)\n",
    "num = len(linear_clf.support_vectors_)\n",
    "print(\"Testing accuracy = \"+ str(acc_test))\n",
    "print(\"Number of sopport vectors = \" + str(num))"
   ]
  },
  {
   "cell_type": "markdown",
   "id": "6cd4bce2",
   "metadata": {},
   "source": [
    "# Q 4(b) Kernel = Linear for different number of data points"
   ]
  },
  {
   "cell_type": "code",
   "execution_count": 67,
   "id": "96991248",
   "metadata": {},
   "outputs": [
    {
     "name": "stdout",
     "output_type": "stream",
     "text": [
      "Number of Data points = 50\n",
      "Testing accuracy = 0.9811320754716981\n",
      "Number of support vectors = 2\n",
      "\n",
      "Number of Data points = 100\n",
      "Testing accuracy = 0.9811320754716981\n",
      "Number of support vectors = 4\n",
      "\n",
      "Number of Data points = 200\n",
      "Testing accuracy = 0.9811320754716981\n",
      "Number of support vectors = 8\n",
      "\n",
      "Number of Data points = 800\n",
      "Testing accuracy = 0.9811320754716981\n",
      "Number of support vectors = 14\n",
      "\n"
     ]
    }
   ],
   "source": [
    "num_points = [50,100,200,800]\n",
    "for i in num_points:\n",
    "    f_train = X_train[0:i]\n",
    "    f_test = X_test\n",
    "    \n",
    "    y_train = Y_train[0:i]\n",
    "    y_test = Y_test\n",
    "    linear_kernel = svm.SVC(kernel='linear')\n",
    "    linear_clf = linear_kernel.fit(f_train, y_train)\n",
    "    pred_test = linear_clf.predict(f_test)\n",
    "    acc_test = accuracy_score(y_test,pred_test)\n",
    "    num = len(linear_clf.support_vectors_)\n",
    "\n",
    "    print(\"Number of Data points =\", i)\n",
    "    print(\"Testing accuracy = \"+ str(acc_test))\n",
    "\n",
    "    print(\"Number of support vectors = \" + str(num))\n",
    "    print(\"\")\n",
    "    "
   ]
  },
  {
   "cell_type": "markdown",
   "id": "9f677d81",
   "metadata": {},
   "source": [
    "# Q 4(c) "
   ]
  },
  {
   "cell_type": "markdown",
   "id": "6a8ec54f",
   "metadata": {},
   "source": [
    "# Q 4(c)(i)  C = 0.0001   Degree=2"
   ]
  },
  {
   "cell_type": "code",
   "execution_count": 54,
   "id": "b778fa8f",
   "metadata": {},
   "outputs": [
    {
     "name": "stdout",
     "output_type": "stream",
     "text": [
      "C = 0.0001  Degree = 2\n",
      "Training Error = 0.25368353619474693\n",
      "Support vectors = 1112\n"
     ]
    }
   ],
   "source": [
    "pp= SVC( C=0.0001, kernel='poly', degree = 2,  coef0=1)\n",
    "p_clf = pp.fit(X_train, Y_train)\n",
    "pred = p_clf.predict(X_train)\n",
    "acc = accuracy_score(Y_train,pred)\n",
    "num = len(p_clf.support_vectors_)\n",
    "error = 1-acc\n",
    "print(\"C = 0.0001  Degree = 2\")\n",
    "print(\"Training Error =\", error)\n",
    "print(\"Support vectors =\", num)"
   ]
  },
  {
   "cell_type": "markdown",
   "id": "a020b8f5",
   "metadata": {},
   "source": [
    "# Q 4(c)(i)  C = 0.0001   Degree=5"
   ]
  },
  {
   "cell_type": "code",
   "execution_count": 55,
   "id": "8f45efdf",
   "metadata": {},
   "outputs": [
    {
     "name": "stdout",
     "output_type": "stream",
     "text": [
      "C = 0.0001  Degree = 5\n",
      "Training Error = 0.018577834721332454\n",
      "Support vectors = 188\n"
     ]
    }
   ],
   "source": [
    "pp= SVC( C=0.0001, kernel='poly', degree = 5, coef0=1)\n",
    "p_clf = pp.fit(X_train, Y_train)\n",
    "pred = p_clf.predict(X_train)\n",
    "acc = accuracy_score(Y_train,pred)\n",
    "num = len(p_clf.support_vectors_)\n",
    "error = 1-acc\n",
    "print(\"C = 0.0001  Degree = 5\")\n",
    "print(\"Training Error =\", error)\n",
    "print(\"Support vectors =\", num)"
   ]
  },
  {
   "cell_type": "markdown",
   "id": "360ed021",
   "metadata": {},
   "source": [
    "# ANS: FALSE, Training Error is high for degree = 2"
   ]
  },
  {
   "cell_type": "markdown",
   "id": "c92e9af2",
   "metadata": {},
   "source": [
    "# Q 4(c)(ii) C = 0.001 Degree=2"
   ]
  },
  {
   "cell_type": "code",
   "execution_count": 56,
   "id": "78c4c11f",
   "metadata": {},
   "outputs": [
    {
     "name": "stdout",
     "output_type": "stream",
     "text": [
      "C = 0.001  Degree = 2\n",
      "Training Error = 0.014093529788597015\n",
      "Support vectors = 456\n"
     ]
    }
   ],
   "source": [
    "pp= SVC( C=0.001, kernel='poly', degree = 2,  coef0=1)\n",
    "p_clf = pp.fit(X_train, Y_train)\n",
    "pred = p_clf.predict(X_train)\n",
    "acc = accuracy_score(Y_train,pred)\n",
    "num = len(p_clf.support_vectors_)\n",
    "error = 1-acc\n",
    "print(\"C = 0.001  Degree = 2\")\n",
    "print(\"Training Error =\", error)\n",
    "print(\"Support vectors =\", num)"
   ]
  },
  {
   "cell_type": "markdown",
   "id": "f26c66b6",
   "metadata": {},
   "source": [
    "# Q 4(c)(ii) C = 0.001 Degree=5"
   ]
  },
  {
   "cell_type": "code",
   "execution_count": 57,
   "id": "6cad7675",
   "metadata": {
    "scrolled": true
   },
   "outputs": [
    {
     "name": "stdout",
     "output_type": "stream",
     "text": [
      "C = 0.001  Degree = 5\n",
      "Training Error = 0.006406149903907754\n",
      "Support vectors = 72\n"
     ]
    }
   ],
   "source": [
    "pp= SVC( C=0.001, kernel='poly', degree = 5,  coef0=1)\n",
    "p_clf = pp.fit(X_train, Y_train)\n",
    "pred = p_clf.predict(X_train)\n",
    "acc = accuracy_score(Y_train,pred)\n",
    "num = len(p_clf.support_vectors_)\n",
    "error = 1-acc\n",
    "print(\"C = 0.001  Degree = 5\")\n",
    "print(\"Training Error =\", error)\n",
    "print(\"Support vectors =\", num)"
   ]
  },
  {
   "cell_type": "markdown",
   "id": "ed7ba271",
   "metadata": {},
   "source": [
    "# ANS: TRUE, Support vectors are lower for degree=5"
   ]
  },
  {
   "cell_type": "markdown",
   "id": "4cee80a5",
   "metadata": {},
   "source": [
    "# Q 4(c)(iii) C = 0.01 Degree=2"
   ]
  },
  {
   "cell_type": "code",
   "execution_count": 47,
   "id": "ae993743",
   "metadata": {},
   "outputs": [
    {
     "name": "stdout",
     "output_type": "stream",
     "text": [
      "C = 0.01  Degree = 2\n",
      "Training Error = 0.005124919923126248\n",
      "Support vectors = 132\n"
     ]
    }
   ],
   "source": [
    "pp= SVC( C=0.01, kernel='poly', degree = 2, coef0=1)\n",
    "p_clf = pp.fit(X_train, Y_train)\n",
    "pred = p_clf.predict(X_train)\n",
    "acc = accuracy_score(Y_train,pred)\n",
    "num = len(p_clf.support_vectors_)\n",
    "error = 1-acc\n",
    "print(\"C = 0.01  Degree = 2\")\n",
    "print(\"Training Error =\", error)\n",
    "print(\"Support vectors =\", num)"
   ]
  },
  {
   "cell_type": "code",
   "execution_count": 48,
   "id": "9f8995f6",
   "metadata": {},
   "outputs": [
    {
     "name": "stdout",
     "output_type": "stream",
     "text": [
      "C = 0.01  Degree = 5\n",
      "Training Error = 0.004484304932735439\n",
      "Support vectors = 34\n"
     ]
    }
   ],
   "source": [
    "pp= SVC( C=0.01, kernel='poly', degree = 5, coef0=1)\n",
    "p_clf = pp.fit(X_train, Y_train)\n",
    "pred = p_clf.predict(X_train)\n",
    "acc = accuracy_score(Y_train,pred)\n",
    "num = len(p_clf.support_vectors_)\n",
    "error = 1-acc\n",
    "print(\"C = 0.01  Degree = 5\")\n",
    "print(\"Training Error =\", error)\n",
    "print(\"Support vectors =\", num)"
   ]
  },
  {
   "cell_type": "markdown",
   "id": "e3ca57d1",
   "metadata": {},
   "source": [
    "# ANS: FALSE, Training Error is higher at degree=2"
   ]
  },
  {
   "cell_type": "markdown",
   "id": "417b1f38",
   "metadata": {},
   "source": [
    "# Q 4(c)(iv) C = 1 Degree=2"
   ]
  },
  {
   "cell_type": "code",
   "execution_count": 49,
   "id": "4d867f06",
   "metadata": {},
   "outputs": [
    {
     "name": "stdout",
     "output_type": "stream",
     "text": [
      "C = 1  Degree = 2\n",
      "Testing Error = 0.021226415094339646\n",
      "Support vectors = 28\n"
     ]
    }
   ],
   "source": [
    "pp= SVC( C=1, kernel='poly', degree = 2,  coef0=1)\n",
    "p_clf = pp.fit(X_train, Y_train)\n",
    "pred = p_clf.predict(X_test)\n",
    "acc = accuracy_score(Y_test,pred)\n",
    "num = len(p_clf.support_vectors_)\n",
    "error = 1-acc\n",
    "print(\"C = 1  Degree = 2\")\n",
    "print(\"Testing Error =\", error)\n",
    "print(\"Support vectors =\", num)"
   ]
  },
  {
   "cell_type": "markdown",
   "id": "4e0f44ca",
   "metadata": {},
   "source": [
    "# Q 4(c)(iv) C = 1 Degree=5"
   ]
  },
  {
   "cell_type": "code",
   "execution_count": 50,
   "id": "a2b9b4d1",
   "metadata": {},
   "outputs": [
    {
     "name": "stdout",
     "output_type": "stream",
     "text": [
      "C = 1  Degree = 5\n",
      "Testing Error = 0.02358490566037741\n",
      "Support vectors = 25\n"
     ]
    }
   ],
   "source": [
    "pp= SVC( C=1, kernel='poly', degree = 5, coef0=1)\n",
    "p_clf = pp.fit(X_train, Y_train)\n",
    "pred = p_clf.predict(X_test)\n",
    "acc = accuracy_score(Y_test,pred)\n",
    "num = len(p_clf.support_vectors_)\n",
    "error = 1-acc\n",
    "print(\"C = 1  Degree = 5\")\n",
    "print(\"Testing Error =\", error)\n",
    "print(\"Support vectors =\", num)"
   ]
  },
  {
   "cell_type": "markdown",
   "id": "2100399b",
   "metadata": {},
   "source": [
    "# ANS: FALSE, Test Error is low at degree=2"
   ]
  },
  {
   "cell_type": "markdown",
   "id": "d91c99de",
   "metadata": {},
   "source": [
    "# Q4(d) Kernel = RBF"
   ]
  },
  {
   "cell_type": "code",
   "execution_count": 65,
   "id": "0beb7043",
   "metadata": {
    "scrolled": false
   },
   "outputs": [
    {
     "name": "stdout",
     "output_type": "stream",
     "text": [
      " C = 0.01\n",
      "  Training Error = 0.0038436899423446302  Testing Error = 0.02358490566037741 Support vectors = 403\n",
      "\n",
      " C = 1\n",
      "  Training Error = 0.004484304932735439  Testing Error = 0.021226415094339646 Support vectors = 31\n",
      "\n",
      " C = 100\n",
      "  Training Error = 0.0032030749519538215  Testing Error = 0.018867924528301883 Support vectors = 22\n",
      "\n",
      " C = 10000\n",
      "  Training Error = 0.002562459961563124  Testing Error = 0.02358490566037741 Support vectors = 20\n",
      "\n",
      " C = 1000000\n",
      "  Training Error = 0.0006406149903908087  Testing Error = 0.02358490566037741 Support vectors = 17\n",
      "\n"
     ]
    }
   ],
   "source": [
    "num_points = [0.01, 1, 100, 10000, 1000000]\n",
    "for i in num_points:\n",
    "    pp= SVC(C=i, kernel='rbf', gamma=1)\n",
    "    p_clf = pp.fit(X_train, Y_train)\n",
    "    pred_ts = p_clf.predict(X_test)\n",
    "    pred_tr = p_clf.predict(X_train)\n",
    "    acc_tes = accuracy_score(Y_test,pred_ts)\n",
    "    acc_tr = accuracy_score(Y_train,pred_tr)\n",
    "    num = len(p_clf.support_vectors_)\n",
    "    print(\" C =\",i)\n",
    "    print(\"  Training Error =\",1-acc_tr,\" Testing Error =\", 1-acc_tes,\"Support vectors =\", num)\n",
    "    print()\n",
    "\n",
    "   "
   ]
  },
  {
   "cell_type": "markdown",
   "id": "4c2866e0",
   "metadata": {},
   "source": [
    "# ANS: Minimum Test Error = 0.021226 for C=1\n",
    "\n",
    "#           Minimum Training Error = 0.00064for C=1000000"
   ]
  },
  {
   "cell_type": "code",
   "execution_count": null,
   "id": "624013f8",
   "metadata": {},
   "outputs": [],
   "source": []
  }
 ],
 "metadata": {
  "kernelspec": {
   "display_name": "Python 3",
   "language": "python",
   "name": "python3"
  },
  "language_info": {
   "codemirror_mode": {
    "name": "ipython",
    "version": 3
   },
   "file_extension": ".py",
   "mimetype": "text/x-python",
   "name": "python",
   "nbconvert_exporter": "python",
   "pygments_lexer": "ipython3",
   "version": "3.8.8"
  }
 },
 "nbformat": 4,
 "nbformat_minor": 5
}
